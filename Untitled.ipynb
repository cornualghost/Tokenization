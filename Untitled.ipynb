{
 "cells": [
  {
   "cell_type": "code",
   "execution_count": 37,
   "id": "4a11632b",
   "metadata": {},
   "outputs": [
    {
     "name": "stdout",
     "output_type": "stream",
     "text": [
      "\n",
      "\n",
      "Trained vocab size: 25000\n",
      "Encoded string: ['M', 'er', 'ha', 'ba', ' b', 'u', ' b', 'ir', ' ', 'ke', 'li', 'me']\n",
      "Decoded string: M er ha ba  b u  b ir   ke li me\n"
     ]
    },
    {
     "ename": "NameError",
     "evalue": "name 'test_contents' is not defined",
     "output_type": "error",
     "traceback": [
      "\u001b[0;31m---------------------------------------------------------------------------\u001b[0m",
      "\u001b[0;31mNameError\u001b[0m                                 Traceback (most recent call last)",
      "Cell \u001b[0;32mIn[37], line 53\u001b[0m\n\u001b[1;32m     50\u001b[0m     \u001b[38;5;28mprint\u001b[39m(\u001b[38;5;124m'\u001b[39m\u001b[38;5;124mPerplexity:\u001b[39m\u001b[38;5;124m'\u001b[39m, perplexity(test_tokenized\u001b[38;5;241m.\u001b[39mtokens, model))\n\u001b[1;32m     52\u001b[0m \u001b[38;5;28;01mif\u001b[39;00m \u001b[38;5;18m__name__\u001b[39m \u001b[38;5;241m==\u001b[39m \u001b[38;5;124m'\u001b[39m\u001b[38;5;124m__main__\u001b[39m\u001b[38;5;124m'\u001b[39m:\n\u001b[0;32m---> 53\u001b[0m     main()\n",
      "Cell \u001b[0;32mIn[37], line 46\u001b[0m, in \u001b[0;36mmain\u001b[0;34m()\u001b[0m\n\u001b[1;32m     42\u001b[0m     train_contents \u001b[38;5;241m=\u001b[39m f\u001b[38;5;241m.\u001b[39mread()\n\u001b[1;32m     45\u001b[0m train_tokenized \u001b[38;5;241m=\u001b[39m tokenizer\u001b[38;5;241m.\u001b[39mencode(train_contents)\n\u001b[0;32m---> 46\u001b[0m test_tokenized \u001b[38;5;241m=\u001b[39m tokenizer\u001b[38;5;241m.\u001b[39mencode(test_contents)\n\u001b[1;32m     48\u001b[0m \u001b[38;5;66;03m# Get unigram model to calculate perplexity\u001b[39;00m\n\u001b[1;32m     49\u001b[0m model \u001b[38;5;241m=\u001b[39m unigram(train_tokenized\u001b[38;5;241m.\u001b[39mtokens)\n",
      "\u001b[0;31mNameError\u001b[0m: name 'test_contents' is not defined"
     ]
    }
   ],
   "source": [
    "from tokenizers import Tokenizer, models, trainers\n",
    "import collections\n",
    "\n",
    "\n",
    "def unigram(tokens):\n",
    "    model = collections.defaultdict(lambda: 0.01)\n",
    "    for f in tokens:\n",
    "        model[f] += 1\n",
    "    N = float(sum(model.values()))\n",
    "    for word in model:\n",
    "        model[word] = model[word] / N\n",
    "    return model\n",
    "\n",
    "def perplexity(testset, model):\n",
    "    perplexity = 1\n",
    "    N = len(testset)\n",
    "    for i in range(80):\n",
    "        word = testset[i]\n",
    "        perplexity = perplexity * (1/model[word])\n",
    "    perplexity = pow(perplexity, 1/float(N))\n",
    "    return perplexity\n",
    "\n",
    "def main():\n",
    "\n",
    "    tokenizer = Tokenizer(models.Unigram())\n",
    "    trainer = trainers.UnigramTrainer(vocab_size=25000)\n",
    "    tokenizer.train(files=[\"titoli_per_morfessor.txt\"], trainer=trainer)\n",
    "\n",
    "    print(\"Trained vocab size: {}\".format(tokenizer.get_vocab_size()))\n",
    "\n",
    "    encoding = tokenizer.encode(\"Merhaba bu bir kelime\")\n",
    "    print(\"Encoded string: {}\".format(encoding.tokens))\n",
    "\n",
    "    decoded = tokenizer.decode(encoding.ids)\n",
    "    print(\"Decoded string: {}\".format(decoded))\n",
    "\n",
    "    vocab = tokenizer.get_vocab()\n",
    "\n",
    "    # Perplexity:\n",
    "    # Tokenize training and test corpus:\n",
    "    with open(\"titoli_per_morfessor.txt\", encoding=\"utf-8\") as f:\n",
    "        train_contents = f.read()\n",
    "    \n",
    "\n",
    "    train_tokenized = tokenizer.encode(train_contents)\n",
    "    test_tokenized = tokenizer.encode(test_contents)\n",
    "\n",
    "    # Get unigram model to calculate perplexity\n",
    "    model = unigram(train_tokenized.tokens)\n",
    "    print('Perplexity:', perplexity(test_tokenized.tokens, model))\n",
    "\n",
    "if __name__ == '__main__':\n",
    "    main()"
   ]
  },
  {
   "cell_type": "code",
   "execution_count": null,
   "id": "cb97ddda",
   "metadata": {},
   "outputs": [],
   "source": []
  }
 ],
 "metadata": {
  "kernelspec": {
   "display_name": "Python 3 (ipykernel)",
   "language": "python",
   "name": "python3"
  },
  "language_info": {
   "codemirror_mode": {
    "name": "ipython",
    "version": 3
   },
   "file_extension": ".py",
   "mimetype": "text/x-python",
   "name": "python",
   "nbconvert_exporter": "python",
   "pygments_lexer": "ipython3",
   "version": "3.11.4"
  }
 },
 "nbformat": 4,
 "nbformat_minor": 5
}
