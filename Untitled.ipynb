{
 "cells": [
  {
   "cell_type": "code",
   "execution_count": 6,
   "id": "93373472",
   "metadata": {},
   "outputs": [
    {
     "name": "stdout",
     "output_type": "stream",
     "text": [
      "\n",
      "['H', 'e', 'l', 'l', 'o', ',', 'th', 'i', 's', 'i', 's', 'a', 'te', 's', 't', '.']\n",
      "\n"
     ]
    }
   ],
   "source": [
    "from tokenizers import Tokenizer\n",
    "from tokenizers.models import Unigram\n",
    "from tokenizers.trainers import UnigramTrainer\n",
    "from tokenizers.pre_tokenizers import Whitespace\n",
    "\n",
    "# Inizializzazione del tokenizzatore con il modello Unigram\n",
    "tokenizer = Tokenizer(Unigram())\n",
    "\n",
    "# Pre-tokenizzatore che suddivide il testo negli spazi\n",
    "tokenizer.pre_tokenizer = Whitespace()\n",
    "\n",
    "# Trainer per il modello Unigram\n",
    "trainer = UnigramTrainer(special_tokens=[\"<unk>\", \"<s>\", \"</s>\", \"<pad>\", \"<mask>\"])\n",
    "\n",
    "# Dati di addestramento: una piccola lista di frasi\n",
    "# In un caso reale, dovresti usare un dataset molto più grande\n",
    "training_corpus = [\n",
    "    \"Hello, this is a test.\",\n",
    "    \"SentencePiece is a text processing tool.\",\n",
    "    \"This is another example sentence for the tokenizer.\"\n",
    "]\n",
    "\n",
    "# Addestramento del tokenizzatore\n",
    "tokenizer.train_from_iterator(training_corpus, trainer=trainer)\n",
    "\n",
    "# Tokenizzazione di un testo di esempio\n",
    "output = tokenizer.encode(\"Hello, this is a test.\")\n",
    "print(output.tokens)\n"
   ]
  },
  {
   "cell_type": "code",
   "execution_count": null,
   "id": "dd59e599",
   "metadata": {},
   "outputs": [],
   "source": []
  }
 ],
 "metadata": {
  "kernelspec": {
   "display_name": "Python 3 (ipykernel)",
   "language": "python",
   "name": "python3"
  },
  "language_info": {
   "codemirror_mode": {
    "name": "ipython",
    "version": 3
   },
   "file_extension": ".py",
   "mimetype": "text/x-python",
   "name": "python",
   "nbconvert_exporter": "python",
   "pygments_lexer": "ipython3",
   "version": "3.11.4"
  }
 },
 "nbformat": 4,
 "nbformat_minor": 5
}
