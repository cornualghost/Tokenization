{
 "cells": [
  {
   "cell_type": "markdown",
   "id": "08bb5a78",
   "metadata": {},
   "source": [
    "# Librerie"
   ]
  },
  {
   "cell_type": "code",
   "execution_count": 1,
   "id": "867f978c",
   "metadata": {},
   "outputs": [],
   "source": [
    "import pandas as pd\n",
    "import matplotlib.pyplot as plt\n",
    "#import tensorflow as tf\n",
    "import nltk\n",
    "import sklearn\n",
    "\n",
    "from transformers import RobertaTokenizer\n",
    "\n",
    "from tensorflow import keras\n",
    "from keras.preprocessing.text import text_to_word_sequence\n",
    "from nltk.corpus import stopwords\n",
    "from nltk.stem import PorterStemmer\n",
    "from nltk.stem import WordNetLemmatizer\n",
    "from nltk.corpus import wordnet\n",
    "from sklearn.feature_extraction.text import TfidfVectorizer\n",
    "from sklearn.feature_extraction.text import TfidfTransformer\n",
    "from sklearn.feature_extraction.text import CountVectorizer\n",
    "from sklearn.model_selection import train_test_split\n",
    "from sklearn import svm\n",
    "from sklearn.naive_bayes import MultinomialNB\n",
    "from sklearn.naive_bayes import GaussianNB\n",
    "from sklearn.metrics import roc_auc_score\n",
    "from sklearn.pipeline import Pipeline\n",
    "from sklearn.metrics import classification_report\n",
    "from sklearn.metrics import accuracy_score\n",
    "from sklearn.tree import DecisionTreeClassifier\n",
    "from sklearn.ensemble import RandomForestClassifier"
   ]
  },
  {
   "cell_type": "markdown",
   "id": "2293b8a7",
   "metadata": {},
   "source": [
    "## Importazione dataset"
   ]
  },
  {
   "cell_type": "code",
   "execution_count": 2,
   "id": "bb914b9d",
   "metadata": {},
   "outputs": [],
   "source": [
    "train_set = pd.read_csv('train.csv')\n",
    "test_set = pd.read_csv(\"test.csv\")"
   ]
  },
  {
   "cell_type": "markdown",
   "id": "b232c80a",
   "metadata": {},
   "source": [
    "## Analisi preliminari "
   ]
  },
  {
   "cell_type": "code",
   "execution_count": 3,
   "id": "e9a96643",
   "metadata": {},
   "outputs": [
    {
     "data": {
      "text/html": [
       "<div>\n",
       "<style scoped>\n",
       "    .dataframe tbody tr th:only-of-type {\n",
       "        vertical-align: middle;\n",
       "    }\n",
       "\n",
       "    .dataframe tbody tr th {\n",
       "        vertical-align: top;\n",
       "    }\n",
       "\n",
       "    .dataframe thead th {\n",
       "        text-align: right;\n",
       "    }\n",
       "</style>\n",
       "<table border=\"1\" class=\"dataframe\">\n",
       "  <thead>\n",
       "    <tr style=\"text-align: right;\">\n",
       "      <th></th>\n",
       "      <th>Class Index</th>\n",
       "      <th>Title</th>\n",
       "      <th>Description</th>\n",
       "    </tr>\n",
       "  </thead>\n",
       "  <tbody>\n",
       "    <tr>\n",
       "      <th>0</th>\n",
       "      <td>3</td>\n",
       "      <td>Wall St. Bears Claw Back Into the Black (Reuters)</td>\n",
       "      <td>Reuters - Short-sellers, Wall Street's dwindli...</td>\n",
       "    </tr>\n",
       "    <tr>\n",
       "      <th>1</th>\n",
       "      <td>3</td>\n",
       "      <td>Carlyle Looks Toward Commercial Aerospace (Reu...</td>\n",
       "      <td>Reuters - Private investment firm Carlyle Grou...</td>\n",
       "    </tr>\n",
       "    <tr>\n",
       "      <th>2</th>\n",
       "      <td>3</td>\n",
       "      <td>Oil and Economy Cloud Stocks' Outlook (Reuters)</td>\n",
       "      <td>Reuters - Soaring crude prices plus worries\\ab...</td>\n",
       "    </tr>\n",
       "    <tr>\n",
       "      <th>3</th>\n",
       "      <td>3</td>\n",
       "      <td>Iraq Halts Oil Exports from Main Southern Pipe...</td>\n",
       "      <td>Reuters - Authorities have halted oil export\\f...</td>\n",
       "    </tr>\n",
       "    <tr>\n",
       "      <th>4</th>\n",
       "      <td>3</td>\n",
       "      <td>Oil prices soar to all-time record, posing new...</td>\n",
       "      <td>AFP - Tearaway world oil prices, toppling reco...</td>\n",
       "    </tr>\n",
       "  </tbody>\n",
       "</table>\n",
       "</div>"
      ],
      "text/plain": [
       "   Class Index                                              Title  \\\n",
       "0            3  Wall St. Bears Claw Back Into the Black (Reuters)   \n",
       "1            3  Carlyle Looks Toward Commercial Aerospace (Reu...   \n",
       "2            3    Oil and Economy Cloud Stocks' Outlook (Reuters)   \n",
       "3            3  Iraq Halts Oil Exports from Main Southern Pipe...   \n",
       "4            3  Oil prices soar to all-time record, posing new...   \n",
       "\n",
       "                                         Description  \n",
       "0  Reuters - Short-sellers, Wall Street's dwindli...  \n",
       "1  Reuters - Private investment firm Carlyle Grou...  \n",
       "2  Reuters - Soaring crude prices plus worries\\ab...  \n",
       "3  Reuters - Authorities have halted oil export\\f...  \n",
       "4  AFP - Tearaway world oil prices, toppling reco...  "
      ]
     },
     "execution_count": 3,
     "metadata": {},
     "output_type": "execute_result"
    }
   ],
   "source": [
    "train_set.head()"
   ]
  },
  {
   "cell_type": "code",
   "execution_count": 4,
   "id": "04070e0e",
   "metadata": {},
   "outputs": [
    {
     "name": "stdout",
     "output_type": "stream",
     "text": [
      "[3 4 2 1]\n"
     ]
    }
   ],
   "source": [
    "target_category = train_set['Class Index'].unique()\n",
    "print(target_category)"
   ]
  },
  {
   "cell_type": "code",
   "execution_count": 5,
   "id": "966955e8",
   "metadata": {},
   "outputs": [
    {
     "data": {
      "text/html": [
       "<div>\n",
       "<style scoped>\n",
       "    .dataframe tbody tr th:only-of-type {\n",
       "        vertical-align: middle;\n",
       "    }\n",
       "\n",
       "    .dataframe tbody tr th {\n",
       "        vertical-align: top;\n",
       "    }\n",
       "\n",
       "    .dataframe thead th {\n",
       "        text-align: right;\n",
       "    }\n",
       "</style>\n",
       "<table border=\"1\" class=\"dataframe\">\n",
       "  <thead>\n",
       "    <tr style=\"text-align: right;\">\n",
       "      <th></th>\n",
       "      <th>Class Index</th>\n",
       "    </tr>\n",
       "  </thead>\n",
       "  <tbody>\n",
       "    <tr>\n",
       "      <th>492</th>\n",
       "      <td>1</td>\n",
       "    </tr>\n",
       "    <tr>\n",
       "      <th>448</th>\n",
       "      <td>2</td>\n",
       "    </tr>\n",
       "    <tr>\n",
       "      <th>0</th>\n",
       "      <td>3</td>\n",
       "    </tr>\n",
       "    <tr>\n",
       "      <th>78</th>\n",
       "      <td>4</td>\n",
       "    </tr>\n",
       "  </tbody>\n",
       "</table>\n",
       "</div>"
      ],
      "text/plain": [
       "     Class Index\n",
       "492            1\n",
       "448            2\n",
       "0              3\n",
       "78             4"
      ]
     },
     "execution_count": 5,
     "metadata": {},
     "output_type": "execute_result"
    }
   ],
   "source": [
    "category = train_set[[\"Class Index\"]].drop_duplicates().sort_values('Class Index')\n",
    "category"
   ]
  },
  {
   "cell_type": "code",
   "execution_count": 6,
   "id": "509bed9b",
   "metadata": {},
   "outputs": [
    {
     "data": {
      "text/plain": [
       "Class Index\n",
       "1    30000\n",
       "2    30000\n",
       "3    30000\n",
       "4    30000\n",
       "Name: Description, dtype: int64"
      ]
     },
     "execution_count": 6,
     "metadata": {},
     "output_type": "execute_result"
    }
   ],
   "source": [
    "train_set.groupby('Class Index').Description.count()"
   ]
  },
  {
   "cell_type": "code",
   "execution_count": 7,
   "id": "140fcbdf",
   "metadata": {},
   "outputs": [
    {
     "data": {
      "text/plain": [
       "<AxesSubplot:xlabel='Class Index'>"
      ]
     },
     "execution_count": 7,
     "metadata": {},
     "output_type": "execute_result"
    },
    {
     "data": {
      "image/png": "[encoded data removed]",
      "text/plain": [
       "<Figure size 640x480 with 1 Axes>"
      ]
     },
     "metadata": {},
     "output_type": "display_data"
    }
   ],
   "source": [
    "train_set.groupby('Class Index').Description.count().plot.bar(ylim=0)"
   ]
  },
  {
   "cell_type": "markdown",
   "id": "92524a8c",
   "metadata": {},
   "source": [
    "# BPE"
   ]
  },
  {
   "cell_type": "markdown",
   "id": "8626c28a",
   "metadata": {},
   "source": [
    "## BPE su train_set "
   ]
  },
  {
   "cell_type": "code",
   "execution_count": 8,
   "id": "76eb0459",
   "metadata": {},
   "outputs": [
    {
     "data": {
      "text/plain": [
       "0    [Reuters, Ġ-, ĠShort, -, sell, ers, ,, ĠWall, ...\n",
       "1    [Reuters, Ġ-, ĠPrivate, Ġinvestment, Ġfirm, ĠC...\n",
       "2    [Reuters, Ġ-, ĠSo, aring, Ġcrude, Ġprices, Ġpl...\n",
       "3    [Reuters, Ġ-, ĠAuthorities, Ġhave, Ġhalted, Ġo...\n",
       "4    [AFP, Ġ-, ĠT, ear, away, Ġworld, Ġoil, Ġprices...\n",
       "Name: Text_BPE, dtype: object"
      ]
     },
     "execution_count": 8,
     "metadata": {},
     "output_type": "execute_result"
    }
   ],
   "source": [
    "# Carica il tokenizzatore preaddestrato di RoBERTa\n",
    "tokenizer = RobertaTokenizer.from_pretrained('roberta-base')\n",
    "\n",
    "# Applica il tokenizzatore a ogni elemento della colonna 'Sentence'\n",
    "train_set['Text_BPE'] = train_set['Description'].apply(lambda x: tokenizer.tokenize(x))\n",
    "\n",
    "# Visualizza le prime righe per vedere il risultato\n",
    "train_set['Text_BPE'].head()"
   ]
  },
  {
   "cell_type": "code",
   "execution_count": 9,
   "id": "7e5b102a",
   "metadata": {},
   "outputs": [
    {
     "data": {
      "text/plain": [
       "0    Reuters Ġ- ĠShort - sell ers , ĠWall ĠStreet '...\n",
       "1    Reuters Ġ- ĠPrivate Ġinvestment Ġfirm ĠCarly l...\n",
       "2    Reuters Ġ- ĠSo aring Ġcrude Ġprices Ġplus Ġwor...\n",
       "3    Reuters Ġ- ĠAuthorities Ġhave Ġhalted Ġoil Ġex...\n",
       "4    AFP Ġ- ĠT ear away Ġworld Ġoil Ġprices , Ġtopp...\n",
       "Name: Text_BPE, dtype: object"
      ]
     },
     "execution_count": 9,
     "metadata": {},
     "output_type": "execute_result"
    }
   ],
   "source": [
    "# Supponiamo che il DataFrame sia chiamato 'data_ml' e la colonna con i token sia 'clear_text'\n",
    "\n",
    "# Converte la lista di token in una stringa unica per ogni riga\n",
    "train_set['Text_BPE'] = train_set['Text_BPE'].apply(lambda x: ' '.join(x))\n",
    "\n",
    "# Visualizza le prime righe per vedere il risultato\n",
    "train_set['Text_BPE'].head()\n"
   ]
  },
  {
   "cell_type": "markdown",
   "id": "68375d96",
   "metadata": {},
   "source": [
    "## BPE su test_set "
   ]
  },
  {
   "cell_type": "code",
   "execution_count": 10,
   "id": "4f3c40aa",
   "metadata": {},
   "outputs": [
    {
     "data": {
      "text/plain": [
       "0    [Un, ions, Ġrepresenting, Ġworkers, Ġat, ĠTurn...\n",
       "1    [SP, ACE, ., com, Ġ-, ĠTOR, ON, TO, ,, ĠCanada...\n",
       "2    [AP, Ġ-, ĠA, Ġcompany, Ġfounded, Ġby, Ġa, Ġche...\n",
       "3    [AP, Ġ-, ĠIt, 's, Ġbarely, Ġdawn, Ġwhen, ĠMike...\n",
       "4    [AP, Ġ-, ĠSouthern, ĠCalifornia, 's, Ġsm, og, ...\n",
       "Name: Text_BPE, dtype: object"
      ]
     },
     "execution_count": 10,
     "metadata": {},
     "output_type": "execute_result"
    }
   ],
   "source": [
    "# Carica il tokenizzatore preaddestrato di RoBERTa\n",
    "tokenizer = RobertaTokenizer.from_pretrained('roberta-base')\n",
    "\n",
    "# Applica il tokenizzatore a ogni elemento della colonna 'Sentence'\n",
    "test_set['Text_BPE'] = test_set['Description'].apply(lambda x: tokenizer.tokenize(x))\n",
    "\n",
    "# Visualizza le prime righe per vedere il risultato\n",
    "test_set['Text_BPE'].head()"
   ]
  },
  {
   "cell_type": "code",
   "execution_count": 11,
   "id": "a4806aa2",
   "metadata": {},
   "outputs": [
    {
     "data": {
      "text/plain": [
       "0    Un ions Ġrepresenting Ġworkers Ġat ĠTurner Ġ Ġ...\n",
       "1    SP ACE . com Ġ- ĠTOR ON TO , ĠCanada Ġ-- ĠA Ġs...\n",
       "2    AP Ġ- ĠA Ġcompany Ġfounded Ġby Ġa Ġchemistry Ġ...\n",
       "3    AP Ġ- ĠIt 's Ġbarely Ġdawn Ġwhen ĠMike ĠFitzpa...\n",
       "4    AP Ġ- ĠSouthern ĠCalifornia 's Ġsm og - fighti...\n",
       "Name: Text_BPE, dtype: object"
      ]
     },
     "execution_count": 11,
     "metadata": {},
     "output_type": "execute_result"
    }
   ],
   "source": [
    "# Supponiamo che il DataFrame sia chiamato 'data_ml' e la colonna con i token sia 'clear_text'\n",
    "\n",
    "# Converte la lista di token in una stringa unica per ogni riga\n",
    "test_set['Text_BPE'] = test_set['Text_BPE'].apply(lambda x: ' '.join(x))\n",
    "\n",
    "# Visualizza le prime righe per vedere il risultato\n",
    "test_set['Text_BPE'].head()\n"
   ]
  },
  {
   "cell_type": "markdown",
   "id": "5d1ec367",
   "metadata": {},
   "source": [
    "# Naive Bayes"
   ]
  },
  {
   "cell_type": "markdown",
   "id": "fe63cd75",
   "metadata": {},
   "source": [
    "## White space "
   ]
  },
  {
   "cell_type": "markdown",
   "id": "d5b285f2",
   "metadata": {},
   "source": [
    "## BPE "
   ]
  },
  {
   "cell_type": "markdown",
   "id": "cf4c5d09",
   "metadata": {},
   "source": [
    "### Test_set "
   ]
  },
  {
   "cell_type": "code",
   "execution_count": null,
   "id": "8c8959a7",
   "metadata": {},
   "outputs": [],
   "source": []
  },
  {
   "cell_type": "code",
   "execution_count": 12,
   "id": "360fe05d",
   "metadata": {},
   "outputs": [
    {
     "name": "stdout",
     "output_type": "stream",
     "text": [
      "Naive Bayes Train Accuracy Score : 90% \n",
      "Naive Bayes Test Accuracy Score  : 89% \n",
      "\n",
      "              precision    recall  f1-score   support\n",
      "\n",
      "           3       0.88      0.91      0.90      1855\n",
      "           4       0.97      0.93      0.95      1974\n",
      "           2       0.83      0.86      0.85      1831\n",
      "           1       0.87      0.85      0.86      1940\n",
      "\n",
      "    accuracy                           0.89      7600\n",
      "   macro avg       0.89      0.89      0.89      7600\n",
      "weighted avg       0.89      0.89      0.89      7600\n",
      "\n"
     ]
    }
   ],
   "source": [
    "nb = Pipeline([('tfidf', TfidfVectorizer()),\n",
    "               ('clf', MultinomialNB()),\n",
    "              ])\n",
    "nb.fit(train_set['Text_BPE'],train_set['Class Index'])\n",
    "\n",
    "test_predict = nb.predict(test_set['Text_BPE'])\n",
    "\n",
    "train_accuracy = round(nb.score(train_set['Text_BPE'],train_set['Class Index'])*100)\n",
    "test_accuracy =round(accuracy_score(test_predict, test_set['Class Index'])*100)\n",
    "\n",
    "\n",
    "print(\"Naive Bayes Train Accuracy Score : {}% \".format(train_accuracy ))\n",
    "print(\"Naive Bayes Test Accuracy Score  : {}% \".format(test_accuracy ))\n",
    "print()\n",
    "# Supponiamo che target_category sia attualmente un array numerico o una lista di numeri\n",
    "# Convertilo in una lista di stringhe\n",
    "target_category = [str(name) for name in target_category]\n",
    "\n",
    "# Ora usa questa lista modificata nel classification_report\n",
    "print(classification_report(test_predict, test_set['Class Index'], target_names=target_category))\n"
   ]
  },
  {
   "cell_type": "markdown",
   "id": "95e4d2cc",
   "metadata": {},
   "source": [
    "## Decision tree"
   ]
  },
  {
   "cell_type": "code",
   "execution_count": null,
   "id": "8d73e1b9",
   "metadata": {},
   "outputs": [],
   "source": [
    "dt = Pipeline([('tfidf', TfidfVectorizer()),\n",
    "                ('dt', DecisionTreeClassifier()),\n",
    "               ])\n",
    "\n",
    "dt.fit(train_set['Text_BPE'],train_set['Class Index'])\n",
    "\n",
    "test_predict = dt.predict(test_set['Text_BPE'])\n",
    "\n",
    "train_accuracy = round(dt.score(train_set['Text_BPE'],train_set['Class Index'])*100)\n",
    "test_accuracy =round(accuracy_score(test_predict, Y_test)*100)\n",
    "\n",
    "print(\"Decision Tree Train Accuracy Score : {}% \".format(train_accuracy ))\n",
    "print(\"Decision Tree Test Accuracy Score  : {}% \".format(test_accuracy ))\n",
    "print()\n",
    "print(classification_report(test_predict, test_set['Text_BPE'], target_names=target_category))"
   ]
  },
  {
   "cell_type": "markdown",
   "id": "78ebdda2",
   "metadata": {},
   "source": [
    "## Random forest"
   ]
  },
  {
   "cell_type": "code",
   "execution_count": null,
   "id": "9fb24ff4",
   "metadata": {},
   "outputs": [],
   "source": [
    "rfc = Pipeline([('tfidf', TfidfVectorizer()),\n",
    "                ('rfc', RandomForestClassifier(n_estimators=100)),\n",
    "               ])\n",
    "\n",
    "rfc.fit(train_set['Text_BPE'],train_set['Class Index'])\n",
    "\n",
    "test_predict = rfc.predict(test_set['Text_BPE'])\n",
    "\n",
    "train_accuracy = round(rfc.score(train_set['Text_BPE'],train_set['Class Index'])*100)\n",
    "test_accuracy =round(accuracy_score(test_predict, test_set['Text_BPE'])*100)\n",
    "\n",
    "print(\"K-Nearest Neighbour Train Accuracy Score : {}% \".format(train_accuracy ))\n",
    "print(\"K-Nearest Neighbour Test Accuracy Score  : {}% \".format(test_accuracy ))\n",
    "print()\n",
    "print(classification_report(test_predict, test_set['Text_BPE'], target_names=target_category))"
   ]
  },
  {
   "cell_type": "markdown",
   "id": "bfa11cfa",
   "metadata": {},
   "source": [
    "# WHITE SPACES"
   ]
  },
  {
   "cell_type": "code",
   "execution_count": 61,
   "id": "ac8d90d8",
   "metadata": {},
   "outputs": [
    {
     "data": {
      "text/plain": [
       "0    Reuters - Short-sellers, Wall Street's dwindli...\n",
       "1    Reuters - Private investment firm Carlyle Grou...\n",
       "2    Reuters - Soaring crude prices plus worries\\ab...\n",
       "3    Reuters - Authorities have halted oil export\\f...\n",
       "4    AFP - Tearaway world oil prices, toppling reco...\n",
       "Name: Textw, dtype: object"
      ]
     },
     "execution_count": 61,
     "metadata": {},
     "output_type": "execute_result"
    }
   ],
   "source": [
    "from sklearn.base import TransformerMixin\n",
    "from sklearn.pipeline import Pipeline\n",
    "\n",
    "# Definisci un trasformatore personalizzato\n",
    "class ListToStringTransformer(TransformerMixin):\n",
    "    def transform(self, X, **transform_params):\n",
    "        # Converte una lista di token in una stringa\n",
    "        return [' '.join(x) for x in X]\n",
    "\n",
    "    def fit(self, X, y=None, **fit_params):\n",
    "        return self\n",
    "\n",
    "# Crea una pipeline che utilizza il trasformatore\n",
    "pipeline = Pipeline([\n",
    "    ('list_to_string', ListToStringTransformer())\n",
    "])\n",
    "\n",
    "# Supponiamo che la colonna 'TextW' contenga liste di token\n",
    "dataset['Textw'] = pipeline.fit_transform(dataset['TextW'])\n",
    "\n",
    "# Visualizza le prime righe per vedere il risultato\n",
    "dataset['Textw'].head()\n"
   ]
  },
  {
   "cell_type": "code",
   "execution_count": 62,
   "id": "d8557278",
   "metadata": {},
   "outputs": [],
   "source": [
    "text = dataset['Textw']\n",
    "category = dataset['Class Index']"
   ]
  },
  {
   "cell_type": "code",
   "execution_count": 63,
   "id": "c5745692",
   "metadata": {},
   "outputs": [
    {
     "name": "stdout",
     "output_type": "stream",
     "text": [
      "84000\n",
      "36000\n"
     ]
    }
   ],
   "source": [
    "X_train, X_test, Y_train, Y_test = train_test_split(text,category, test_size = 0.3, random_state = 60,shuffle=True, stratify=category)\n",
    "\n",
    "print(len(X_train))\n",
    "print(len(X_test))"
   ]
  },
  {
   "cell_type": "code",
   "execution_count": 64,
   "id": "387c734a",
   "metadata": {},
   "outputs": [
    {
     "name": "stdout",
     "output_type": "stream",
     "text": [
      "Naive Bayes Train Accuracy Score : 91% \n",
      "Naive Bayes Test Accuracy Score  : 90% \n",
      "\n",
      "              precision    recall  f1-score   support\n",
      "\n",
      "           0       0.89      0.90      0.90      8881\n",
      "           1       0.98      0.95      0.96      9284\n",
      "           2       0.85      0.86      0.86      8912\n",
      "           3       0.86      0.87      0.87      8923\n",
      "\n",
      "    accuracy                           0.90     36000\n",
      "   macro avg       0.90      0.90      0.90     36000\n",
      "weighted avg       0.90      0.90      0.90     36000\n",
      "\n"
     ]
    }
   ],
   "source": [
    "nb = Pipeline([('tfidf', TfidfVectorizer()),\n",
    "               ('clf', MultinomialNB()),\n",
    "              ])\n",
    "nb.fit(X_train,Y_train)\n",
    "\n",
    "test_predict = nb.predict(X_test)\n",
    "\n",
    "train_accuracy = round(nb.score(X_train,Y_train)*100)\n",
    "test_accuracy =round(accuracy_score(test_predict, Y_test)*100)\n",
    "\n",
    "\n",
    "print(\"Naive Bayes Train Accuracy Score : {}% \".format(train_accuracy ))\n",
    "print(\"Naive Bayes Test Accuracy Score  : {}% \".format(test_accuracy ))\n",
    "print()\n",
    "# Supponiamo che target_category sia attualmente un array numerico o una lista di numeri\n",
    "# Convertilo in una lista di stringhe\n",
    "target_category = [str(name) for name in target_category]\n",
    "\n",
    "# Ora usa questa lista modificata nel classification_report\n",
    "print(classification_report(test_predict, Y_test, target_names=target_category))\n"
   ]
  },
  {
   "cell_type": "markdown",
   "id": "a18f4b0b",
   "metadata": {},
   "source": [
    "# DECISION TREE"
   ]
  },
  {
   "cell_type": "code",
   "execution_count": 60,
   "id": "78094c3b",
   "metadata": {},
   "outputs": [
    {
     "name": "stdout",
     "output_type": "stream",
     "text": [
      "Decision Tree Train Accuracy Score : 100% \n",
      "Decision Tree Test Accuracy Score  : 74% \n",
      "\n",
      "              precision    recall  f1-score   support\n",
      "\n",
      "           0       0.74      0.74      0.74      8940\n",
      "           1       0.83      0.81      0.82      9168\n",
      "           2       0.69      0.70      0.70      8888\n",
      "           3       0.71      0.71      0.71      9004\n",
      "\n",
      "    accuracy                           0.74     36000\n",
      "   macro avg       0.74      0.74      0.74     36000\n",
      "weighted avg       0.74      0.74      0.74     36000\n",
      "\n"
     ]
    }
   ],
   "source": [
    "dt = Pipeline([('tfidf', TfidfVectorizer()),\n",
    "                ('dt', DecisionTreeClassifier()),\n",
    "               ])\n",
    "\n",
    "dt.fit(X_train, Y_train)\n",
    "\n",
    "test_predict = dt.predict(X_test)\n",
    "\n",
    "train_accuracy = round(dt.score(X_train,Y_train)*100)\n",
    "test_accuracy =round(accuracy_score(test_predict, Y_test)*100)\n",
    "\n",
    "print(\"Decision Tree Train Accuracy Score : {}% \".format(train_accuracy ))\n",
    "print(\"Decision Tree Test Accuracy Score  : {}% \".format(test_accuracy ))\n",
    "print()\n",
    "print(classification_report(test_predict, Y_test, target_names=target_category))"
   ]
  },
  {
   "cell_type": "code",
   "execution_count": 66,
   "id": "69a2a482",
   "metadata": {},
   "outputs": [],
   "source": [
    "text = dataset['Text']\n",
    "category = dataset['Class Index']"
   ]
  },
  {
   "cell_type": "code",
   "execution_count": 67,
   "id": "15f7dd0c",
   "metadata": {},
   "outputs": [
    {
     "name": "stdout",
     "output_type": "stream",
     "text": [
      "84000\n",
      "36000\n"
     ]
    }
   ],
   "source": [
    "X_train, X_test, Y_train, Y_test = train_test_split(text,category, test_size = 0.3, random_state = 60,shuffle=True, stratify=category)\n",
    "\n",
    "print(len(X_train))\n",
    "print(len(X_test))"
   ]
  },
  {
   "cell_type": "markdown",
   "id": "608476bb",
   "metadata": {},
   "source": [
    "# RANDOM FOREST"
   ]
  },
  {
   "cell_type": "code",
   "execution_count": 68,
   "id": "33253b2b",
   "metadata": {},
   "outputs": [
    {
     "name": "stdout",
     "output_type": "stream",
     "text": [
      "K-Nearest Neighbour Train Accuracy Score : 100% \n",
      "K-Nearest Neighbour Test Accuracy Score  : 86% \n",
      "\n",
      "              precision    recall  f1-score   support\n",
      "\n",
      "           0       0.85      0.89      0.87      8661\n",
      "           1       0.96      0.89      0.92      9682\n",
      "           2       0.81      0.86      0.83      8462\n",
      "           3       0.84      0.82      0.83      9195\n",
      "\n",
      "    accuracy                           0.86     36000\n",
      "   macro avg       0.86      0.86      0.86     36000\n",
      "weighted avg       0.87      0.86      0.86     36000\n",
      "\n"
     ]
    }
   ],
   "source": [
    "rfc = Pipeline([('tfidf', TfidfVectorizer()),\n",
    "                ('rfc', RandomForestClassifier(n_estimators=100)),\n",
    "               ])\n",
    "\n",
    "rfc.fit(X_train, Y_train)\n",
    "\n",
    "test_predict = rfc.predict(X_test)\n",
    "\n",
    "train_accuracy = round(rfc.score(X_train,Y_train)*100)\n",
    "test_accuracy =round(accuracy_score(test_predict, Y_test)*100)\n",
    "\n",
    "print(\"K-Nearest Neighbour Train Accuracy Score : {}% \".format(train_accuracy ))\n",
    "print(\"K-Nearest Neighbour Test Accuracy Score  : {}% \".format(test_accuracy ))\n",
    "print()\n",
    "print(classification_report(test_predict, Y_test, target_names=target_category))"
   ]
  },
  {
   "cell_type": "markdown",
   "id": "9ee983f4",
   "metadata": {},
   "source": [
    "# Morfessor "
   ]
  },
  {
   "cell_type": "code",
   "execution_count": null,
   "id": "1658b77d",
   "metadata": {},
   "outputs": [],
   "source": []
  }
 ],
 "metadata": {
  "kernelspec": {
   "display_name": "Python 3 (ipykernel)",
   "language": "python",
   "name": "python3"
  },
  "language_info": {
   "codemirror_mode": {
    "name": "ipython",
    "version": 3
   },
   "file_extension": ".py",
   "mimetype": "text/x-python",
   "name": "python",
   "nbconvert_exporter": "python",
   "pygments_lexer": "ipython3",
   "version": "3.9.13"
  }
 },
 "nbformat": 4,
 "nbformat_minor": 5
}
