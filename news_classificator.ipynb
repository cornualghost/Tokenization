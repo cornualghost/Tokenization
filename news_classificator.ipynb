{
 "cells": [
  {
   "cell_type": "markdown",
   "id": "08bb5a78",
   "metadata": {},
   "source": [
    "# Librerie"
   ]
  },
  {
   "cell_type": "code",
   "execution_count": 1,
   "id": "867f978c",
   "metadata": {},
   "outputs": [
    {
     "name": "stderr",
     "output_type": "stream",
     "text": [
      "[nltk_data] Downloading package stopwords to\n",
      "[nltk_data]     C:\\Users\\keita\\AppData\\Roaming\\nltk_data...\n",
      "[nltk_data]   Package stopwords is already up-to-date!\n"
     ]
    }
   ],
   "source": [
    "import pandas as pd\n",
    "import matplotlib.pyplot as plt\n",
    "from memory_profiler import profile\n",
    "#import tensorflow as tf\n",
    "import nltk\n",
    "import sklearn\n",
    "\n",
    "from transformers import RobertaTokenizer\n",
    "from sacremoses import MosesTokenizer\n",
    "\n",
    "import seaborn as sns\n",
    "from tensorflow import keras\n",
    "from keras.preprocessing.text import text_to_word_sequence\n",
    "from nltk.corpus import stopwords\n",
    "from nltk.stem import PorterStemmer\n",
    "from nltk.stem import WordNetLemmatizer\n",
    "from nltk.corpus import wordnet\n",
    "from sklearn.feature_extraction.text import TfidfVectorizer\n",
    "from sklearn.feature_extraction.text import TfidfTransformer\n",
    "from sklearn.feature_extraction.text import CountVectorizer\n",
    "from sklearn.model_selection import train_test_split\n",
    "from sklearn import svm\n",
    "from sklearn.naive_bayes import MultinomialNB\n",
    "from sklearn.naive_bayes import GaussianNB\n",
    "from sklearn.metrics import roc_auc_score\n",
    "from sklearn.pipeline import Pipeline\n",
    "from sklearn.metrics import classification_report\n",
    "from sklearn.metrics import accuracy_score\n",
    "from sklearn.tree import DecisionTreeClassifier\n",
    "from sklearn.ensemble import RandomForestClassifier\n",
    "from tokenizer.text_cleaning import clean_text\n",
    "from tokenizer.bpe import BPEPipeline, BPE\n",
    "from tokenizer.MosesTokenizer import MosesTokenizationPipeline"
   ]
  },
  {
   "cell_type": "code",
   "execution_count": 2,
   "id": "9507c66e",
   "metadata": {},
   "outputs": [],
   "source": [
    "from tokenizer.bpe import BpeRobertaPipeline\n",
    "from tokenizer.XLNtokenizer import XLNetTokenization\n",
    "from tokenizer.morfessor_tokenizator import MorfessorTokenizationPipeline"
   ]
  },
  {
   "cell_type": "code",
   "execution_count": 3,
   "id": "bf65a718",
   "metadata": {},
   "outputs": [],
   "source": [
    "def apply_bpe_to_series(series):\n",
    "    return series.apply(bpe_pipeline.transform)"
   ]
  },
  {
   "cell_type": "code",
   "execution_count": 4,
   "id": "5e913f8a",
   "metadata": {},
   "outputs": [],
   "source": [
    "%load_ext memory_profiler"
   ]
  },
  {
   "cell_type": "markdown",
   "id": "2293b8a7",
   "metadata": {},
   "source": [
    "## Importazione dataset"
   ]
  },
  {
   "cell_type": "code",
   "execution_count": 5,
   "id": "bb914b9d",
   "metadata": {},
   "outputs": [],
   "source": [
    "train_set = pd.read_csv('dataset/train.csv')\n",
    "test_set = pd.read_csv(\"dataset/test.csv\")"
   ]
  },
  {
   "cell_type": "markdown",
   "id": "b232c80a",
   "metadata": {},
   "source": [
    "## Analisi preliminari "
   ]
  },
  {
   "cell_type": "code",
   "execution_count": 6,
   "id": "e9a96643",
   "metadata": {},
   "outputs": [
    {
     "data": {
      "text/html": [
       "<div>\n",
       "<style scoped>\n",
       "    .dataframe tbody tr th:only-of-type {\n",
       "        vertical-align: middle;\n",
       "    }\n",
       "\n",
       "    .dataframe tbody tr th {\n",
       "        vertical-align: top;\n",
       "    }\n",
       "\n",
       "    .dataframe thead th {\n",
       "        text-align: right;\n",
       "    }\n",
       "</style>\n",
       "<table border=\"1\" class=\"dataframe\">\n",
       "  <thead>\n",
       "    <tr style=\"text-align: right;\">\n",
       "      <th></th>\n",
       "      <th>Class Index</th>\n",
       "      <th>Title</th>\n",
       "      <th>Description</th>\n",
       "    </tr>\n",
       "  </thead>\n",
       "  <tbody>\n",
       "    <tr>\n",
       "      <th>0</th>\n",
       "      <td>3</td>\n",
       "      <td>Wall St. Bears Claw Back Into the Black (Reuters)</td>\n",
       "      <td>Reuters - Short-sellers, Wall Street's dwindli...</td>\n",
       "    </tr>\n",
       "    <tr>\n",
       "      <th>1</th>\n",
       "      <td>3</td>\n",
       "      <td>Carlyle Looks Toward Commercial Aerospace (Reu...</td>\n",
       "      <td>Reuters - Private investment firm Carlyle Grou...</td>\n",
       "    </tr>\n",
       "    <tr>\n",
       "      <th>2</th>\n",
       "      <td>3</td>\n",
       "      <td>Oil and Economy Cloud Stocks' Outlook (Reuters)</td>\n",
       "      <td>Reuters - Soaring crude prices plus worries\\ab...</td>\n",
       "    </tr>\n",
       "    <tr>\n",
       "      <th>3</th>\n",
       "      <td>3</td>\n",
       "      <td>Iraq Halts Oil Exports from Main Southern Pipe...</td>\n",
       "      <td>Reuters - Authorities have halted oil export\\f...</td>\n",
       "    </tr>\n",
       "    <tr>\n",
       "      <th>4</th>\n",
       "      <td>3</td>\n",
       "      <td>Oil prices soar to all-time record, posing new...</td>\n",
       "      <td>AFP - Tearaway world oil prices, toppling reco...</td>\n",
       "    </tr>\n",
       "  </tbody>\n",
       "</table>\n",
       "</div>"
      ],
      "text/plain": [
       "   Class Index                                              Title  \\\n",
       "0            3  Wall St. Bears Claw Back Into the Black (Reuters)   \n",
       "1            3  Carlyle Looks Toward Commercial Aerospace (Reu...   \n",
       "2            3    Oil and Economy Cloud Stocks' Outlook (Reuters)   \n",
       "3            3  Iraq Halts Oil Exports from Main Southern Pipe...   \n",
       "4            3  Oil prices soar to all-time record, posing new...   \n",
       "\n",
       "                                         Description  \n",
       "0  Reuters - Short-sellers, Wall Street's dwindli...  \n",
       "1  Reuters - Private investment firm Carlyle Grou...  \n",
       "2  Reuters - Soaring crude prices plus worries\\ab...  \n",
       "3  Reuters - Authorities have halted oil export\\f...  \n",
       "4  AFP - Tearaway world oil prices, toppling reco...  "
      ]
     },
     "execution_count": 6,
     "metadata": {},
     "output_type": "execute_result"
    }
   ],
   "source": [
    "train_set.head()"
   ]
  },
  {
   "cell_type": "code",
   "execution_count": 7,
   "id": "04070e0e",
   "metadata": {},
   "outputs": [
    {
     "name": "stdout",
     "output_type": "stream",
     "text": [
      "[3 4 2 1]\n"
     ]
    }
   ],
   "source": [
    "target_category = train_set['Class Index'].unique()\n",
    "print(target_category)"
   ]
  },
  {
   "cell_type": "code",
   "execution_count": 8,
   "id": "966955e8",
   "metadata": {},
   "outputs": [
    {
     "data": {
      "text/html": [
       "<div>\n",
       "<style scoped>\n",
       "    .dataframe tbody tr th:only-of-type {\n",
       "        vertical-align: middle;\n",
       "    }\n",
       "\n",
       "    .dataframe tbody tr th {\n",
       "        vertical-align: top;\n",
       "    }\n",
       "\n",
       "    .dataframe thead th {\n",
       "        text-align: right;\n",
       "    }\n",
       "</style>\n",
       "<table border=\"1\" class=\"dataframe\">\n",
       "  <thead>\n",
       "    <tr style=\"text-align: right;\">\n",
       "      <th></th>\n",
       "      <th>Class Index</th>\n",
       "    </tr>\n",
       "  </thead>\n",
       "  <tbody>\n",
       "    <tr>\n",
       "      <th>492</th>\n",
       "      <td>1</td>\n",
       "    </tr>\n",
       "    <tr>\n",
       "      <th>448</th>\n",
       "      <td>2</td>\n",
       "    </tr>\n",
       "    <tr>\n",
       "      <th>0</th>\n",
       "      <td>3</td>\n",
       "    </tr>\n",
       "    <tr>\n",
       "      <th>78</th>\n",
       "      <td>4</td>\n",
       "    </tr>\n",
       "  </tbody>\n",
       "</table>\n",
       "</div>"
      ],
      "text/plain": [
       "     Class Index\n",
       "492            1\n",
       "448            2\n",
       "0              3\n",
       "78             4"
      ]
     },
     "execution_count": 8,
     "metadata": {},
     "output_type": "execute_result"
    }
   ],
   "source": [
    "category = train_set[[\"Class Index\"]].drop_duplicates().sort_values('Class Index')\n",
    "category"
   ]
  },
  {
   "cell_type": "code",
   "execution_count": 9,
   "id": "509bed9b",
   "metadata": {},
   "outputs": [
    {
     "data": {
      "text/plain": [
       "Class Index\n",
       "1    30000\n",
       "2    30000\n",
       "3    30000\n",
       "4    30000\n",
       "Name: Description, dtype: int64"
      ]
     },
     "execution_count": 9,
     "metadata": {},
     "output_type": "execute_result"
    }
   ],
   "source": [
    "train_set.groupby('Class Index').Description.count()"
   ]
  },
  {
   "cell_type": "code",
   "execution_count": 10,
   "id": "140fcbdf",
   "metadata": {},
   "outputs": [
    {
     "data": {
      "text/plain": [
       "<AxesSubplot:xlabel='Class Index'>"
      ]
     },
     "execution_count": 10,
     "metadata": {},
     "output_type": "execute_result"
    },
    {
     "data": {
      "image/png": "[encoded data removed]",
      "text/plain": [
       "<Figure size 640x480 with 1 Axes>"
      ]
     },
     "metadata": {},
     "output_type": "display_data"
    }
   ],
   "source": [
    "train_set.groupby('Class Index').Description.count().plot.bar(ylim=0)"
   ]
  },
  {
   "cell_type": "code",
   "execution_count": 11,
   "id": "bb3145af",
   "metadata": {},
   "outputs": [
    {
     "data": {
      "text/html": [
       "<div>\n",
       "<style scoped>\n",
       "    .dataframe tbody tr th:only-of-type {\n",
       "        vertical-align: middle;\n",
       "    }\n",
       "\n",
       "    .dataframe tbody tr th {\n",
       "        vertical-align: top;\n",
       "    }\n",
       "\n",
       "    .dataframe thead th {\n",
       "        text-align: right;\n",
       "    }\n",
       "</style>\n",
       "<table border=\"1\" class=\"dataframe\">\n",
       "  <thead>\n",
       "    <tr style=\"text-align: right;\">\n",
       "      <th></th>\n",
       "      <th>Class Index</th>\n",
       "      <th>Title</th>\n",
       "      <th>Description</th>\n",
       "    </tr>\n",
       "  </thead>\n",
       "  <tbody>\n",
       "    <tr>\n",
       "      <th>0</th>\n",
       "      <td>3</td>\n",
       "      <td>Wall St. Bears Claw Back Into the Black (Reuters)</td>\n",
       "      <td>Reuters - Short-sellers, Wall Street's dwindli...</td>\n",
       "    </tr>\n",
       "    <tr>\n",
       "      <th>1</th>\n",
       "      <td>3</td>\n",
       "      <td>Carlyle Looks Toward Commercial Aerospace (Reu...</td>\n",
       "      <td>Reuters - Private investment firm Carlyle Grou...</td>\n",
       "    </tr>\n",
       "    <tr>\n",
       "      <th>2</th>\n",
       "      <td>3</td>\n",
       "      <td>Oil and Economy Cloud Stocks' Outlook (Reuters)</td>\n",
       "      <td>Reuters - Soaring crude prices plus worries\\ab...</td>\n",
       "    </tr>\n",
       "    <tr>\n",
       "      <th>3</th>\n",
       "      <td>3</td>\n",
       "      <td>Iraq Halts Oil Exports from Main Southern Pipe...</td>\n",
       "      <td>Reuters - Authorities have halted oil export\\f...</td>\n",
       "    </tr>\n",
       "    <tr>\n",
       "      <th>4</th>\n",
       "      <td>3</td>\n",
       "      <td>Oil prices soar to all-time record, posing new...</td>\n",
       "      <td>AFP - Tearaway world oil prices, toppling reco...</td>\n",
       "    </tr>\n",
       "    <tr>\n",
       "      <th>...</th>\n",
       "      <td>...</td>\n",
       "      <td>...</td>\n",
       "      <td>...</td>\n",
       "    </tr>\n",
       "    <tr>\n",
       "      <th>119995</th>\n",
       "      <td>1</td>\n",
       "      <td>Pakistan's Musharraf Says Won't Quit as Army C...</td>\n",
       "      <td>KARACHI (Reuters) - Pakistani President Perve...</td>\n",
       "    </tr>\n",
       "    <tr>\n",
       "      <th>119996</th>\n",
       "      <td>2</td>\n",
       "      <td>Renteria signing a top-shelf deal</td>\n",
       "      <td>Red Sox general manager Theo Epstein acknowled...</td>\n",
       "    </tr>\n",
       "    <tr>\n",
       "      <th>119997</th>\n",
       "      <td>2</td>\n",
       "      <td>Saban not going to Dolphins yet</td>\n",
       "      <td>The Miami Dolphins will put their courtship of...</td>\n",
       "    </tr>\n",
       "    <tr>\n",
       "      <th>119998</th>\n",
       "      <td>2</td>\n",
       "      <td>Today's NFL games</td>\n",
       "      <td>PITTSBURGH at NY GIANTS Time: 1:30 p.m. Line: ...</td>\n",
       "    </tr>\n",
       "    <tr>\n",
       "      <th>119999</th>\n",
       "      <td>2</td>\n",
       "      <td>Nets get Carter from Raptors</td>\n",
       "      <td>INDIANAPOLIS -- All-Star Vince Carter was trad...</td>\n",
       "    </tr>\n",
       "  </tbody>\n",
       "</table>\n",
       "<p>120000 rows × 3 columns</p>\n",
       "</div>"
      ],
      "text/plain": [
       "        Class Index                                              Title  \\\n",
       "0                 3  Wall St. Bears Claw Back Into the Black (Reuters)   \n",
       "1                 3  Carlyle Looks Toward Commercial Aerospace (Reu...   \n",
       "2                 3    Oil and Economy Cloud Stocks' Outlook (Reuters)   \n",
       "3                 3  Iraq Halts Oil Exports from Main Southern Pipe...   \n",
       "4                 3  Oil prices soar to all-time record, posing new...   \n",
       "...             ...                                                ...   \n",
       "119995            1  Pakistan's Musharraf Says Won't Quit as Army C...   \n",
       "119996            2                  Renteria signing a top-shelf deal   \n",
       "119997            2                    Saban not going to Dolphins yet   \n",
       "119998            2                                  Today's NFL games   \n",
       "119999            2                       Nets get Carter from Raptors   \n",
       "\n",
       "                                              Description  \n",
       "0       Reuters - Short-sellers, Wall Street's dwindli...  \n",
       "1       Reuters - Private investment firm Carlyle Grou...  \n",
       "2       Reuters - Soaring crude prices plus worries\\ab...  \n",
       "3       Reuters - Authorities have halted oil export\\f...  \n",
       "4       AFP - Tearaway world oil prices, toppling reco...  \n",
       "...                                                   ...  \n",
       "119995   KARACHI (Reuters) - Pakistani President Perve...  \n",
       "119996  Red Sox general manager Theo Epstein acknowled...  \n",
       "119997  The Miami Dolphins will put their courtship of...  \n",
       "119998  PITTSBURGH at NY GIANTS Time: 1:30 p.m. Line: ...  \n",
       "119999  INDIANAPOLIS -- All-Star Vince Carter was trad...  \n",
       "\n",
       "[120000 rows x 3 columns]"
      ]
     },
     "execution_count": 11,
     "metadata": {},
     "output_type": "execute_result"
    }
   ],
   "source": [
    "train_set"
   ]
  },
  {
   "cell_type": "markdown",
   "id": "fe63cd75",
   "metadata": {},
   "source": [
    "## White space "
   ]
  },
  {
   "cell_type": "code",
   "execution_count": 12,
   "id": "945782be",
   "metadata": {},
   "outputs": [],
   "source": [
    "#WHITE\n",
    "\n",
    "def list_to_string(df, source_column, new_column):\n",
    "    \"\"\"\n",
    "    Converte una lista di parole in una colonna del DataFrame in una stringa unica.\n",
    "    \n",
    "    Args:\n",
    "    df (pandas.DataFrame): DataFrame che contiene la colonna di liste di parole.\n",
    "    source_column (str): Nome della colonna da cui prendere le liste di parole.\n",
    "    new_column (str): Nome della nuova colonna con il testo convertito in stringa.\n",
    "\n",
    "    Returns:\n",
    "    pandas.DataFrame: DataFrame con la nuova colonna aggiunta.\n",
    "    \"\"\"\n",
    "    # Verifica che la colonna esista nel DataFrame\n",
    "    if source_column not in df.columns:\n",
    "        raise ValueError(f\"La colonna {source_column} non esiste nel DataFrame fornito.\")\n",
    "\n",
    "    # Converte ogni lista di parole in una stringa unica\n",
    "    df[new_column] = df[source_column].apply(lambda x: ' '.join(x) if isinstance(x, list) else x)\n",
    "\n",
    "    return df\n",
    "\n",
    "# Applica la funzione al tuo DataFrame\n",
    "clean_func = clean_text('Description')\n",
    "train_set['cleaned_text'] = train_set['Description'].apply(clean_func)\n",
    "train_set = list_to_string(train_set, 'cleaned_text', 'text_w')\n",
    "test_set['cleaned_text'] = test_set['Description'].apply(clean_func)\n",
    "test_set=list_to_string(test_set, 'cleaned_text', 'text_w')\n",
    "\n",
    "# Visualizza le prime righe per vedere il risultato\n",
    "# print(test_set['text_w'].head())"
   ]
  },
  {
   "cell_type": "markdown",
   "id": "f598ed3c",
   "metadata": {},
   "source": [
    "## Analisi complessa "
   ]
  },
  {
   "cell_type": "code",
   "execution_count": 13,
   "id": "1e50aef9",
   "metadata": {},
   "outputs": [
    {
     "name": "stdout",
     "output_type": "stream",
     "text": [
      "peak memory: 619.04 MiB, increment: 0.96 MiB\n"
     ]
    }
   ],
   "source": [
    "%memit list_to_string(train_set, 'cleaned_text', 'text_w')"
   ]
  },
  {
   "cell_type": "code",
   "execution_count": 16,
   "id": "0f04e77c",
   "metadata": {},
   "outputs": [
    {
     "name": "stdout",
     "output_type": "stream",
     "text": [
      "68.6 ms ± 2.41 ms per loop (mean ± std. dev. of 7 runs, 10 loops each)\n"
     ]
    }
   ],
   "source": [
    "%timeit list_to_string(train_set, 'cleaned_text', 'text_w')"
   ]
  },
  {
   "cell_type": "markdown",
   "id": "484829f1",
   "metadata": {},
   "source": [
    "## Naive bayes "
   ]
  },
  {
   "cell_type": "code",
   "execution_count": 14,
   "id": "b0c3e6a3",
   "metadata": {},
   "outputs": [
    {
     "name": "stdout",
     "output_type": "stream",
     "text": [
      "Naive Bayes Train Accuracy Score : 91% \n",
      "Naive Bayes Test Accuracy Score  : 89% \n",
      "\n",
      "              precision    recall  f1-score   support\n",
      "\n",
      "           3       0.89      0.91      0.90      1861\n",
      "           4       0.97      0.95      0.96      1943\n",
      "           2       0.85      0.86      0.85      1887\n",
      "           1       0.87      0.86      0.86      1909\n",
      "\n",
      "    accuracy                           0.89      7600\n",
      "   macro avg       0.89      0.89      0.89      7600\n",
      "weighted avg       0.89      0.89      0.89      7600\n",
      "\n"
     ]
    }
   ],
   "source": [
    "nb = Pipeline([('tfidf', TfidfVectorizer()),\n",
    "               ('clf', MultinomialNB()),\n",
    "              ])\n",
    "nb.fit(train_set['text_w'],train_set['Class Index'])\n",
    "\n",
    "test_predict = nb.predict(test_set['text_w'])\n",
    "\n",
    "train_accuracy = round(nb.score(train_set['text_w'],train_set['Class Index'])*100)\n",
    "test_accuracy =round(accuracy_score(test_predict, test_set['Class Index'])*100)\n",
    "\n",
    "\n",
    "print(\"Naive Bayes Train Accuracy Score : {}% \".format(train_accuracy ))\n",
    "print(\"Naive Bayes Test Accuracy Score  : {}% \".format(test_accuracy ))\n",
    "print()\n",
    "# Supponiamo che target_category sia attualmente un array numerico o una lista di numeri\n",
    "# Convertilo in una lista di stringhe\n",
    "target_category = [str(name) for name in target_category]\n",
    "\n",
    "# Ora usa questa lista modificata nel classification_report\n",
    "print(classification_report(test_predict, test_set['Class Index'], target_names=target_category))"
   ]
  },
  {
   "cell_type": "markdown",
   "id": "a5377a8a",
   "metadata": {},
   "source": [
    "## Matrice di confusione "
   ]
  },
  {
   "cell_type": "code",
   "execution_count": 14,
   "id": "77aa5688",
   "metadata": {},
   "outputs": [
    {
     "data": {
      "image/png": "[encoded data removed]",
      "text/plain": [
       "<Figure size 1000x700 with 2 Axes>"
      ]
     },
     "metadata": {},
     "output_type": "display_data"
    }
   ],
   "source": [
    "from sklearn.metrics import confusion_matrix\n",
    "import matplotlib.pyplot as plt\n",
    "import seaborn as sns  # Per una visualizzazione più attraente della matrice di confusione\n",
    "\n",
    "# Calcola la matrice di confusione\n",
    "conf_matrix = confusion_matrix(test_set['Class Index'], test_predict)\n",
    "\n",
    "# Usa Seaborn per creare una heatmap della matrice di confusione\n",
    "plt.figure(figsize=(10, 7))\n",
    "sns.heatmap(conf_matrix, annot=True, fmt='g', cmap='Blues', xticklabels=target_category, yticklabels=target_category)\n",
    "\n",
    "# Aggiungi titoli e etichette\n",
    "plt.xlabel('Predicted labels')\n",
    "plt.ylabel('True labels')\n",
    "plt.title('Confusion Matrix for Naive Bayes Classifier')\n",
    "plt.show()\n"
   ]
  },
  {
   "cell_type": "markdown",
   "id": "c1d8ca83",
   "metadata": {},
   "source": [
    "## Decision tree "
   ]
  },
  {
   "cell_type": "code",
   "execution_count": 17,
   "id": "ab914120",
   "metadata": {},
   "outputs": [
    {
     "name": "stdout",
     "output_type": "stream",
     "text": [
      "Decision Tree Train Accuracy Score : 100% \n",
      "Decision Tree Test Accuracy Score  : 81% \n",
      "\n",
      "              precision    recall  f1-score   support\n",
      "\n",
      "           3       0.82      0.80      0.81      1930\n",
      "           4       0.89      0.87      0.88      1949\n",
      "           2       0.76      0.77      0.76      1895\n",
      "           1       0.75      0.78      0.76      1826\n",
      "\n",
      "    accuracy                           0.81      7600\n",
      "   macro avg       0.81      0.80      0.80      7600\n",
      "weighted avg       0.81      0.81      0.81      7600\n",
      "\n"
     ]
    }
   ],
   "source": [
    "dt = Pipeline([('tfidf', TfidfVectorizer()),\n",
    "                ('dt', DecisionTreeClassifier(random_state=42)),\n",
    "               ])\n",
    "\n",
    "dt.fit(train_set['text_w'],train_set['Class Index'])\n",
    "\n",
    "test_predict = dt.predict(test_set['text_w'])\n",
    "\n",
    "train_accuracy = round(dt.score(train_set['text_w'],train_set['Class Index'])*100)\n",
    "test_accuracy =round(accuracy_score(test_predict, test_set['Class Index'])*100)\n",
    "\n",
    "print(\"Decision Tree Train Accuracy Score : {}% \".format(train_accuracy ))\n",
    "print(\"Decision Tree Test Accuracy Score  : {}% \".format(test_accuracy ))\n",
    "print()\n",
    "print(classification_report(test_predict, test_set['Class Index'], target_names=target_category))"
   ]
  },
  {
   "cell_type": "markdown",
   "id": "0fe89c44",
   "metadata": {},
   "source": [
    "## Random forest "
   ]
  },
  {
   "cell_type": "code",
   "execution_count": null,
   "id": "9fdc0751",
   "metadata": {},
   "outputs": [],
   "source": [
    "rfc = Pipeline([('tfidf', TfidfVectorizer()),\n",
    "                ('rfc', RandomForestClassifier(n_estimators=100, random_state=42)),\n",
    "               ])\n",
    "\n",
    "rfc.fit(train_set['text_w'],train_set['Class Index'])\n",
    "\n",
    "test_predict = rfc.predict(test_set['text_w'])\n",
    "\n",
    "train_accuracy = round(rfc.score(train_set['text_w'],train_set['Class Index'])*100)\n",
    "test_accuracy =round(accuracy_score(test_predict, test_set['Class Index'])*100)\n",
    "\n",
    "print(\"Random Forest Train Accuracy Score : {}% \".format(train_accuracy ))\n",
    "print(\"Random Forest Test Accuracy Score  : {}% \".format(test_accuracy ))\n",
    "print()\n",
    "print(classification_report(test_predict, test_set['Class Index'], target_names=target_category))"
   ]
  },
  {
   "cell_type": "markdown",
   "id": "d5b285f2",
   "metadata": {},
   "source": [
    "## BPE "
   ]
  },
  {
   "cell_type": "code",
   "execution_count": 50,
   "id": "8c8959a7",
   "metadata": {},
   "outputs": [],
   "source": [
    "#Addestro tokenizzatore\n",
    "#corpus = train_set['Title']\n",
    "\n",
    "#vocab_size = 1000\n",
    "\n",
    "#bpe_pipeline = BPEPipeline(vocab_size)\n",
    "#bpe_pipeline.fit(corpus)\n",
    "\n",
    "#test_set['cleaned_text'] = test_set['Description'].apply(clean_func)\n",
    "#test_set.head()\n",
    "\n",
    "#test_set['Text_BPE'] = apply_bpe_to_series(test_set['cleaned_text'])\n",
    "#test_set['Text_BPE'].head()\n",
    "\n",
    "#test_set['Text_BPE'] = test_set['Text_BPE'].apply(lambda x: ' '.join(x))"
   ]
  },
  {
   "cell_type": "markdown",
   "id": "08445556",
   "metadata": {},
   "source": [
    "## Analisi complessa "
   ]
  },
  {
   "cell_type": "code",
   "execution_count": null,
   "id": "d94b7e3f",
   "metadata": {},
   "outputs": [],
   "source": [
    "%memit apply_bpe_to_series(test_set['cleaned_text'])"
   ]
  },
  {
   "cell_type": "code",
   "execution_count": null,
   "id": "7f03a455",
   "metadata": {},
   "outputs": [],
   "source": [
    "%timeit apply_bpe_to_series(test_set['cleaned_text'])"
   ]
  },
  {
   "cell_type": "code",
   "execution_count": 18,
   "id": "d4f20689",
   "metadata": {},
   "outputs": [
    {
     "data": {
      "text/html": [
       "<div>\n",
       "<style scoped>\n",
       "    .dataframe tbody tr th:only-of-type {\n",
       "        vertical-align: middle;\n",
       "    }\n",
       "\n",
       "    .dataframe tbody tr th {\n",
       "        vertical-align: top;\n",
       "    }\n",
       "\n",
       "    .dataframe thead th {\n",
       "        text-align: right;\n",
       "    }\n",
       "</style>\n",
       "<table border=\"1\" class=\"dataframe\">\n",
       "  <thead>\n",
       "    <tr style=\"text-align: right;\">\n",
       "      <th></th>\n",
       "      <th>Class Index</th>\n",
       "      <th>Title</th>\n",
       "      <th>Description</th>\n",
       "      <th>cleaned_text</th>\n",
       "      <th>Text_BPE</th>\n",
       "      <th>Text_BPE1</th>\n",
       "    </tr>\n",
       "  </thead>\n",
       "  <tbody>\n",
       "    <tr>\n",
       "      <th>0</th>\n",
       "      <td>3</td>\n",
       "      <td>Fears for T N pension after talks</td>\n",
       "      <td>Unions representing workers at Turner   Newall...</td>\n",
       "      <td>unions representing workers turner newall say ...</td>\n",
       "      <td>['un', 'ions', 'Ġre', 'p', 'res', 'ent', 'ing'...</td>\n",
       "      <td>un ions Ġre p res ent ing Ġw ork ers Ġt urn er...</td>\n",
       "    </tr>\n",
       "    <tr>\n",
       "      <th>1</th>\n",
       "      <td>4</td>\n",
       "      <td>The Race is On: Second Private Team Sets Launc...</td>\n",
       "      <td>SPACE.com - TORONTO, Canada -- A second\\team o...</td>\n",
       "      <td>space com toronto canada second team rocketeer...</td>\n",
       "      <td>['s', 'p', 'ace', 'Ġc', 'om', 'Ġt', 'or', 'on'...</td>\n",
       "      <td>s p ace Ġc om Ġt or on to Ġc anad a Ġs econd Ġ...</td>\n",
       "    </tr>\n",
       "    <tr>\n",
       "      <th>2</th>\n",
       "      <td>4</td>\n",
       "      <td>Ky. Company Wins Grant to Study Peptides (AP)</td>\n",
       "      <td>AP - A company founded by a chemistry research...</td>\n",
       "      <td>ap company founded chemistry researcher univer...</td>\n",
       "      <td>['ap', 'Ġcomp', 'an', 'y', 'Ġf', 'ound', 'ed',...</td>\n",
       "      <td>ap Ġcomp an y Ġf ound ed Ġc he m ist ry Ġres e...</td>\n",
       "    </tr>\n",
       "    <tr>\n",
       "      <th>3</th>\n",
       "      <td>4</td>\n",
       "      <td>Prediction Unit Helps Forecast Wildfires (AP)</td>\n",
       "      <td>AP - It's barely dawn when Mike Fitzpatrick st...</td>\n",
       "      <td>ap barely dawn mike fitzpatrick starts shift b...</td>\n",
       "      <td>['ap', 'Ġb', 'ar', 'ely', 'Ġd', 'aw', 'n', 'Ġm...</td>\n",
       "      <td>ap Ġb ar ely Ġd aw n Ġm i ke Ġf it z p at ric ...</td>\n",
       "    </tr>\n",
       "    <tr>\n",
       "      <th>4</th>\n",
       "      <td>4</td>\n",
       "      <td>Calif. Aims to Limit Farm-Related Smog (AP)</td>\n",
       "      <td>AP - Southern California's smog-fighting agenc...</td>\n",
       "      <td>ap southern california smog fighting agency we...</td>\n",
       "      <td>['ap', 'Ġs', 'out', 'her', 'n', 'Ġc', 'al', 'i...</td>\n",
       "      <td>ap Ġs out her n Ġc al if orn ia Ġs m og Ġf igh...</td>\n",
       "    </tr>\n",
       "  </tbody>\n",
       "</table>\n",
       "</div>"
      ],
      "text/plain": [
       "   Class Index                                              Title  \\\n",
       "0            3                  Fears for T N pension after talks   \n",
       "1            4  The Race is On: Second Private Team Sets Launc...   \n",
       "2            4      Ky. Company Wins Grant to Study Peptides (AP)   \n",
       "3            4      Prediction Unit Helps Forecast Wildfires (AP)   \n",
       "4            4        Calif. Aims to Limit Farm-Related Smog (AP)   \n",
       "\n",
       "                                         Description  \\\n",
       "0  Unions representing workers at Turner   Newall...   \n",
       "1  SPACE.com - TORONTO, Canada -- A second\\team o...   \n",
       "2  AP - A company founded by a chemistry research...   \n",
       "3  AP - It's barely dawn when Mike Fitzpatrick st...   \n",
       "4  AP - Southern California's smog-fighting agenc...   \n",
       "\n",
       "                                        cleaned_text  \\\n",
       "0  unions representing workers turner newall say ...   \n",
       "1  space com toronto canada second team rocketeer...   \n",
       "2  ap company founded chemistry researcher univer...   \n",
       "3  ap barely dawn mike fitzpatrick starts shift b...   \n",
       "4  ap southern california smog fighting agency we...   \n",
       "\n",
       "                                            Text_BPE  \\\n",
       "0  ['un', 'ions', 'Ġre', 'p', 'res', 'ent', 'ing'...   \n",
       "1  ['s', 'p', 'ace', 'Ġc', 'om', 'Ġt', 'or', 'on'...   \n",
       "2  ['ap', 'Ġcomp', 'an', 'y', 'Ġf', 'ound', 'ed',...   \n",
       "3  ['ap', 'Ġb', 'ar', 'ely', 'Ġd', 'aw', 'n', 'Ġm...   \n",
       "4  ['ap', 'Ġs', 'out', 'her', 'n', 'Ġc', 'al', 'i...   \n",
       "\n",
       "                                           Text_BPE1  \n",
       "0  un ions Ġre p res ent ing Ġw ork ers Ġt urn er...  \n",
       "1  s p ace Ġc om Ġt or on to Ġc anad a Ġs econd Ġ...  \n",
       "2  ap Ġcomp an y Ġf ound ed Ġc he m ist ry Ġres e...  \n",
       "3  ap Ġb ar ely Ġd aw n Ġm i ke Ġf it z p at ric ...  \n",
       "4  ap Ġs out her n Ġc al if orn ia Ġs m og Ġf igh...  "
      ]
     },
     "execution_count": 18,
     "metadata": {},
     "output_type": "execute_result"
    }
   ],
   "source": [
    "# Per questioni di comodità si importano i dataset con la tokenizzazione bpe già effettuata\n",
    "train_set_bpe = pd.read_csv('dataset/train_set_bpe.csv')\n",
    "test_set_bpe = pd.read_csv(\"dataset/test_set_bpe.csv\")\n",
    "test_set_bpe.head()"
   ]
  },
  {
   "cell_type": "markdown",
   "id": "f93d0532",
   "metadata": {},
   "source": [
    "# Naive Bayes"
   ]
  },
  {
   "cell_type": "code",
   "execution_count": 54,
   "id": "360fe05d",
   "metadata": {},
   "outputs": [
    {
     "name": "stdout",
     "output_type": "stream",
     "text": [
      "Naive Bayes Train Accuracy Score : 80% \n",
      "Naive Bayes Test Accuracy Score  : 80% \n",
      "\n",
      "              precision    recall  f1-score   support\n",
      "\n",
      "           3       0.81      0.83      0.82      1849\n",
      "           4       0.90      0.83      0.86      2068\n",
      "           2       0.73      0.78      0.75      1784\n",
      "           1       0.75      0.75      0.75      1899\n",
      "\n",
      "    accuracy                           0.80      7600\n",
      "   macro avg       0.80      0.80      0.80      7600\n",
      "weighted avg       0.80      0.80      0.80      7600\n",
      "\n"
     ]
    }
   ],
   "source": [
    "nb = Pipeline([('tfidf', TfidfVectorizer()),\n",
    "               ('clf', MultinomialNB()),\n",
    "              ])\n",
    "nb.fit(train_set_bpe['Text_BPE1'],train_set_bpe['Class Index'])\n",
    "\n",
    "test_predict_bpe = nb.predict(test_set_bpe['Text_BPE1'])\n",
    "\n",
    "train_accuracy = round(nb.score(train_set_bpe['Text_BPE1'],train_set_bpe['Class Index'])*100)\n",
    "test_accuracy =round(accuracy_score(test_predict, test_set_bpe['Class Index'])*100)\n",
    "\n",
    "\n",
    "print(\"Naive Bayes Train Accuracy Score : {}% \".format(train_accuracy ))\n",
    "print(\"Naive Bayes Test Accuracy Score  : {}% \".format(test_accuracy ))\n",
    "print()\n",
    "# Supponiamo che target_category sia attualmente un array numerico o una lista di numeri\n",
    "# Convertilo in una lista di stringhe\n",
    "target_category = [str(name) for name in target_category]\n",
    "\n",
    "# Ora usa questa lista modificata nel classification_report\n",
    "print(classification_report(test_predict, test_set_bpe['Class Index'], target_names=target_category))\n"
   ]
  },
  {
   "cell_type": "code",
   "execution_count": null,
   "id": "97fca5c9",
   "metadata": {},
   "outputs": [],
   "source": [
    "from sklearn.metrics import confusion_matrix\n",
    "import matplotlib.pyplot as plt\n",
    "import seaborn as sns  # Per una visualizzazione più attraente della matrice di confusione\n",
    "\n",
    "# Calcola la matrice di confusione\n",
    "conf_matrix = confusion_matrix(test_set_bpe['Class Index'], test_predict_bpe)\n",
    "\n",
    "# Usa Seaborn per creare una heatmap della matrice di confusione\n",
    "plt.figure(figsize=(10, 7))\n",
    "sns.heatmap(conf_matrix, annot=True, fmt='g', cmap='Blues', xticklabels=target_category, yticklabels=target_category)\n",
    "\n",
    "# Aggiungi titoli e etichette\n",
    "plt.xlabel('Predicted labels')\n",
    "plt.ylabel('True labels')\n",
    "plt.title('Confusion Matrix for Naive Bayes Classifier')\n",
    "plt.show()"
   ]
  },
  {
   "cell_type": "markdown",
   "id": "95e4d2cc",
   "metadata": {},
   "source": [
    "## Decision tree"
   ]
  },
  {
   "cell_type": "code",
   "execution_count": 19,
   "id": "8d73e1b9",
   "metadata": {},
   "outputs": [
    {
     "name": "stdout",
     "output_type": "stream",
     "text": [
      "Decision Tree Train Accuracy Score : 100% \n",
      "Decision Tree Test Accuracy Score  : 70% \n",
      "\n",
      "              precision    recall  f1-score   support\n",
      "\n",
      "           3       0.73      0.72      0.72      1940\n",
      "           4       0.75      0.77      0.76      1866\n",
      "           2       0.64      0.65      0.65      1864\n",
      "           1       0.67      0.65      0.66      1930\n",
      "\n",
      "    accuracy                           0.70      7600\n",
      "   macro avg       0.70      0.70      0.70      7600\n",
      "weighted avg       0.70      0.70      0.70      7600\n",
      "\n"
     ]
    }
   ],
   "source": [
    "dt = Pipeline([('tfidf', TfidfVectorizer()),\n",
    "                ('dt', DecisionTreeClassifier(random_state=42)),\n",
    "               ])\n",
    "\n",
    "dt.fit(train_set_bpe['Text_BPE1'],train_set_bpe['Class Index'])\n",
    "\n",
    "test_predict = dt.predict(test_set_bpe['Text_BPE1'])\n",
    "\n",
    "train_accuracy = round(dt.score(train_set_bpe['Text_BPE1'],train_set_bpe['Class Index'])*100)\n",
    "test_accuracy =round(accuracy_score(test_predict, test_set_bpe['Class Index'])*100)\n",
    "\n",
    "print(\"Decision Tree Train Accuracy Score : {}% \".format(train_accuracy ))\n",
    "print(\"Decision Tree Test Accuracy Score  : {}% \".format(test_accuracy ))\n",
    "print()\n",
    "print(classification_report(test_predict, test_set_bpe['Class Index'], target_names=target_category))"
   ]
  },
  {
   "cell_type": "markdown",
   "id": "78ebdda2",
   "metadata": {},
   "source": [
    "## Random forest"
   ]
  },
  {
   "cell_type": "code",
   "execution_count": 56,
   "id": "9fb24ff4",
   "metadata": {},
   "outputs": [
    {
     "name": "stdout",
     "output_type": "stream",
     "text": [
      "K-Nearest Neighbour Train Accuracy Score : 100% \n",
      "K-Nearest Neighbour Test Accuracy Score  : 83% \n",
      "\n",
      "              precision    recall  f1-score   support\n",
      "\n",
      "           3       0.82      0.86      0.84      1813\n",
      "           4       0.92      0.85      0.88      2073\n",
      "           2       0.76      0.83      0.79      1755\n",
      "           1       0.80      0.78      0.79      1959\n",
      "\n",
      "    accuracy                           0.83      7600\n",
      "   macro avg       0.83      0.83      0.83      7600\n",
      "weighted avg       0.83      0.83      0.83      7600\n",
      "\n"
     ]
    }
   ],
   "source": [
    "rfc = Pipeline([('tfidf', TfidfVectorizer()),\n",
    "                ('rfc', RandomForestClassifier(n_estimators=100, random_state=42)),\n",
    "               ])\n",
    "\n",
    "rfc.fit(train_set_bpe['Text_BPE1'],train_set_bpe['Class Index'])\n",
    "\n",
    "test_predict = rfc.predict(test_set_bpe['Text_BPE1'])\n",
    "\n",
    "train_accuracy = round(rfc.score(train_set_bpe['Text_BPE1'],train_set_bpe['Class Index'])*100)\n",
    "test_accuracy =round(accuracy_score(test_predict, test_set_bpe['Class Index'])*100)\n",
    "\n",
    "print(\"Random Forest Train Accuracy Score : {}% \".format(train_accuracy ))\n",
    "print(\"Random Forest Test Accuracy Score  : {}% \".format(test_accuracy ))\n",
    "print()\n",
    "print(classification_report(test_predict, test_set_bpe['Class Index'], target_names=target_category))"
   ]
  },
  {
   "cell_type": "markdown",
   "id": "9ee983f4",
   "metadata": {},
   "source": [
    "# BPE Roberta"
   ]
  },
  {
   "cell_type": "code",
   "execution_count": 20,
   "id": "1658b77d",
   "metadata": {},
   "outputs": [],
   "source": [
    "# Applicazione metodo bpe Roberta\n",
    "pipeline = BpeRobertaPipeline()\n",
    "train_set['Text_BPER'] = pipeline.apply_pipeline(train_set, 'cleaned_text')\n",
    "test_set['Text_BPER']=pipeline.apply_pipeline(test_set, 'cleaned_text')"
   ]
  },
  {
   "cell_type": "markdown",
   "id": "d8811d8a",
   "metadata": {},
   "source": [
    "## Analisi complessa "
   ]
  },
  {
   "cell_type": "code",
   "execution_count": null,
   "id": "319553e3",
   "metadata": {},
   "outputs": [],
   "source": [
    "%memit pipeline.apply_pipeline(train_set, 'cleaned_text')"
   ]
  },
  {
   "cell_type": "code",
   "execution_count": null,
   "id": "eaf92698",
   "metadata": {},
   "outputs": [],
   "source": [
    "%timeit pipeline.apply_pipeline(train_set, 'cleaned_text')"
   ]
  },
  {
   "cell_type": "markdown",
   "id": "c4368c44",
   "metadata": {},
   "source": [
    "## Naive Bayes"
   ]
  },
  {
   "cell_type": "code",
   "execution_count": 64,
   "id": "e691281f",
   "metadata": {},
   "outputs": [
    {
     "name": "stdout",
     "output_type": "stream",
     "text": [
      "Naive Bayes Train Accuracy Score : 90% \n",
      "Naive Bayes Test Accuracy Score  : 89% \n",
      "\n",
      "              precision    recall  f1-score   support\n",
      "\n",
      "           3       0.88      0.91      0.89      1851\n",
      "           4       0.97      0.92      0.95      1993\n",
      "           2       0.84      0.86      0.85      1857\n",
      "           1       0.86      0.86      0.86      1899\n",
      "\n",
      "    accuracy                           0.89      7600\n",
      "   macro avg       0.89      0.89      0.89      7600\n",
      "weighted avg       0.89      0.89      0.89      7600\n",
      "\n"
     ]
    }
   ],
   "source": [
    "nb = Pipeline([('tfidf', TfidfVectorizer()),\n",
    "               ('clf', MultinomialNB()),\n",
    "              ])\n",
    "nb.fit(train_set['Text_BPER'],train_set['Class Index'])\n",
    "\n",
    "test_predict_bpe_roberta = nb.predict(test_set['Text_BPER'])\n",
    "\n",
    "train_accuracy = round(nb.score(train_set['Text_BPER'],train_set['Class Index'])*100)\n",
    "test_accuracy =round(accuracy_score(test_predict, test_set['Class Index'])*100)\n",
    "\n",
    "\n",
    "print(\"Naive Bayes Train Accuracy Score : {}% \".format(train_accuracy ))\n",
    "print(\"Naive Bayes Test Accuracy Score  : {}% \".format(test_accuracy ))\n",
    "print()\n",
    "# Supponiamo che target_category sia attualmente un array numerico o una lista di numeri\n",
    "# Convertilo in una lista di stringhe\n",
    "target_category = [str(name) for name in target_category]\n",
    "\n",
    "# Ora usa questa lista modificata nel classification_report\n",
    "print(classification_report(test_predict, test_set['Class Index'], target_names=target_category))\n"
   ]
  },
  {
   "cell_type": "code",
   "execution_count": null,
   "id": "22b335b1",
   "metadata": {},
   "outputs": [],
   "source": [
    "from sklearn.metrics import confusion_matrix\n",
    "import matplotlib.pyplot as plt\n",
    "import seaborn as sns  # Per una visualizzazione più attraente della matrice di confusione\n",
    "\n",
    "# Calcola la matrice di confusione\n",
    "conf_matrix = confusion_matrix(test_set_bpe['Class Index'], test_predict_bpe_roberta)\n",
    "\n",
    "# Usa Seaborn per creare una heatmap della matrice di confusione\n",
    "plt.figure(figsize=(10, 7))\n",
    "sns.heatmap(conf_matrix, annot=True, fmt='g', cmap='Blues', xticklabels=target_category, yticklabels=target_category)\n",
    "\n",
    "# Aggiungi titoli e etichette\n",
    "plt.xlabel('Predicted labels')\n",
    "plt.ylabel('True labels')\n",
    "plt.title('Confusion Matrix for Naive Bayes Classifier')\n",
    "plt.show()"
   ]
  },
  {
   "cell_type": "markdown",
   "id": "e620c799",
   "metadata": {},
   "source": [
    "## Decision tree"
   ]
  },
  {
   "cell_type": "code",
   "execution_count": 21,
   "id": "03cef93e",
   "metadata": {},
   "outputs": [
    {
     "name": "stdout",
     "output_type": "stream",
     "text": [
      "Decision Tree Train Accuracy Score : 100% \n",
      "Decision Tree Test Accuracy Score  : 79% \n",
      "\n",
      "              precision    recall  f1-score   support\n",
      "\n",
      "           3       0.81      0.78      0.79      1963\n",
      "           4       0.87      0.86      0.86      1921\n",
      "           2       0.74      0.75      0.75      1876\n",
      "           1       0.75      0.78      0.76      1840\n",
      "\n",
      "    accuracy                           0.79      7600\n",
      "   macro avg       0.79      0.79      0.79      7600\n",
      "weighted avg       0.79      0.79      0.79      7600\n",
      "\n"
     ]
    }
   ],
   "source": [
    "dt = Pipeline([('tfidf', TfidfVectorizer()),\n",
    "                ('dt', DecisionTreeClassifier(random_state=42)),\n",
    "               ])\n",
    "\n",
    "dt.fit(train_set['Text_BPER'],train_set['Class Index'])\n",
    "\n",
    "test_predict = dt.predict(test_set['Text_BPER'])\n",
    "\n",
    "train_accuracy = round(dt.score(train_set['Text_BPER'],train_set['Class Index'])*100)\n",
    "test_accuracy =round(accuracy_score(test_predict, test_set['Class Index'])*100)\n",
    "\n",
    "print(\"Decision Tree Train Accuracy Score : {}% \".format(train_accuracy ))\n",
    "print(\"Decision Tree Test Accuracy Score  : {}% \".format(test_accuracy ))\n",
    "print()\n",
    "print(classification_report(test_predict, test_set['Class Index'], target_names=target_category))"
   ]
  },
  {
   "cell_type": "markdown",
   "id": "df7621a7",
   "metadata": {},
   "source": [
    "## Random Forest"
   ]
  },
  {
   "cell_type": "code",
   "execution_count": 67,
   "id": "fa410d89",
   "metadata": {},
   "outputs": [
    {
     "name": "stdout",
     "output_type": "stream",
     "text": [
      "K-Nearest Neighbour Train Accuracy Score : 100% \n",
      "K-Nearest Neighbour Test Accuracy Score  : 88% \n",
      "\n",
      "              precision    recall  f1-score   support\n",
      "\n",
      "           3       0.89      0.90      0.89      1879\n",
      "           4       0.97      0.91      0.94      2021\n",
      "           2       0.83      0.86      0.84      1834\n",
      "           1       0.85      0.86      0.86      1866\n",
      "\n",
      "    accuracy                           0.88      7600\n",
      "   macro avg       0.88      0.88      0.88      7600\n",
      "weighted avg       0.89      0.88      0.88      7600\n",
      "\n"
     ]
    }
   ],
   "source": [
    "rfc = Pipeline([('tfidf', TfidfVectorizer()),\n",
    "                ('rfc', RandomForestClassifier(n_estimators=100, random_state=42)),\n",
    "               ])\n",
    "\n",
    "rfc.fit(train_set['Text_BPER'],train_set['Class Index'])\n",
    "\n",
    "test_predict = rfc.predict(test_set['Text_BPER'])\n",
    "\n",
    "train_accuracy = round(rfc.score(train_set['Text_BPER'],train_set['Class Index'])*100)\n",
    "test_accuracy =round(accuracy_score(test_predict, test_set['Class Index'])*100)\n",
    "\n",
    "print(\"Random Forest Train Accuracy Score : {}% \".format(train_accuracy ))\n",
    "print(\"Random Forest Test Accuracy Score  : {}% \".format(test_accuracy ))\n",
    "print()\n",
    "print(classification_report(test_predict, test_set['Class Index'], target_names=target_category))"
   ]
  },
  {
   "cell_type": "markdown",
   "id": "f306c48c",
   "metadata": {},
   "source": [
    "## XLN"
   ]
  },
  {
   "cell_type": "code",
   "execution_count": 14,
   "id": "746082cf",
   "metadata": {},
   "outputs": [],
   "source": [
    "clean_func = clean_text('Description')\n",
    "train_set['cleaned_text'] = train_set['Description'].apply(clean_func)\n",
    "train_set.head()\n",
    "test_set['cleaned_text'] = test_set['Description'].apply(clean_func)"
   ]
  },
  {
   "cell_type": "code",
   "execution_count": 15,
   "id": "f916c789",
   "metadata": {},
   "outputs": [],
   "source": [
    "# Creazione della pipeline\n",
    "pipeline = Pipeline([\n",
    "    ('xlnet_tokenization', XLNetTokenization())])\n",
    "\n",
    "# Esempio di utilizzo\n",
    "train_set = pd.read_csv('dataset/train_set_bpe.csv')\n",
    "test_set = pd.read_csv(\"dataset/test_set_bpe.csv\")\n",
    "\n",
    "train_set['XLN'] = pipeline.fit_transform(train_set['cleaned_text'])\n",
    "test_set['XLN'] = pipeline.fit_transform(test_set['cleaned_text'])\n",
    "\n",
    "#rimozione liste\n",
    "train_set['XLN'] = train_set['XLN'].apply(lambda x: ' '.join(map(str, x)) if isinstance(x, list) else x)\n",
    "test_set['XLN'] = test_set['XLN'].apply(lambda x: ' '.join(map(str, x)) if isinstance(x, list) else x)"
   ]
  },
  {
   "cell_type": "markdown",
   "id": "a448e19a",
   "metadata": {},
   "source": [
    "## Analisi complessa "
   ]
  },
  {
   "cell_type": "code",
   "execution_count": null,
   "id": "38da4e1c",
   "metadata": {},
   "outputs": [],
   "source": [
    "%memit pipeline.fit_transform(train_set['cleaned_text'])"
   ]
  },
  {
   "cell_type": "code",
   "execution_count": null,
   "id": "0879bc36",
   "metadata": {},
   "outputs": [],
   "source": [
    "%timeit pipeline.fit_transform(train_set['cleaned_text'])"
   ]
  },
  {
   "cell_type": "markdown",
   "id": "748f85a4",
   "metadata": {},
   "source": [
    "# Naive bayes"
   ]
  },
  {
   "cell_type": "code",
   "execution_count": 15,
   "id": "0e65a5df",
   "metadata": {},
   "outputs": [
    {
     "name": "stdout",
     "output_type": "stream",
     "text": [
      "Naive Bayes Train Accuracy Score : 90% \n",
      "Naive Bayes Test Accuracy Score  : 88% \n",
      "\n",
      "              precision    recall  f1-score   support\n",
      "\n",
      "           3       0.88      0.91      0.89      1839\n",
      "           4       0.97      0.92      0.94      1989\n",
      "           2       0.83      0.85      0.84      1859\n",
      "           1       0.85      0.85      0.85      1913\n",
      "\n",
      "    accuracy                           0.88      7600\n",
      "   macro avg       0.88      0.88      0.88      7600\n",
      "weighted avg       0.88      0.88      0.88      7600\n",
      "\n"
     ]
    }
   ],
   "source": [
    "nb = Pipeline([('tfidf', TfidfVectorizer()),\n",
    "               ('clf', MultinomialNB()),\n",
    "              ])\n",
    "nb.fit(train_set['XLN'],train_set['Class Index'])\n",
    "\n",
    "test_predict = nb.predict(test_set['XLN'])\n",
    "\n",
    "train_accuracy = round(nb.score(train_set['XLN'],train_set['Class Index'])*100)\n",
    "test_accuracy =round(accuracy_score(test_predict, test_set['Class Index'])*100)\n",
    "\n",
    "\n",
    "print(\"Naive Bayes Train Accuracy Score : {}% \".format(train_accuracy ))\n",
    "print(\"Naive Bayes Test Accuracy Score  : {}% \".format(test_accuracy ))\n",
    "print()\n",
    "# Supponiamo che target_category sia attualmente un array numerico o una lista di numeri\n",
    "# Convertilo in una lista di stringhe\n",
    "target_category = [str(name) for name in target_category]\n",
    "\n",
    "# Ora usa questa lista modificata nel classification_report\n",
    "print(classification_report(test_predict, test_set['Class Index'], target_names=target_category))\n"
   ]
  },
  {
   "cell_type": "markdown",
   "id": "5a05e5a1",
   "metadata": {},
   "source": [
    "## Decision tree"
   ]
  },
  {
   "cell_type": "code",
   "execution_count": 16,
   "id": "a57ef2d4",
   "metadata": {},
   "outputs": [
    {
     "name": "stdout",
     "output_type": "stream",
     "text": [
      "Decision Tree Train Accuracy Score : 100% \n",
      "Decision Tree Test Accuracy Score  : 77% \n",
      "\n",
      "              precision    recall  f1-score   support\n",
      "\n",
      "           3       0.78      0.78      0.78      1914\n",
      "           4       0.85      0.84      0.85      1918\n",
      "           2       0.72      0.73      0.73      1865\n",
      "           1       0.74      0.74      0.74      1903\n",
      "\n",
      "    accuracy                           0.77      7600\n",
      "   macro avg       0.77      0.77      0.77      7600\n",
      "weighted avg       0.77      0.77      0.77      7600\n",
      "\n"
     ]
    }
   ],
   "source": [
    "dt = Pipeline([('tfidf', TfidfVectorizer()),\n",
    "                ('dt', DecisionTreeClassifier(random_state=42)),\n",
    "               ])\n",
    "\n",
    "dt.fit(train_set['XLN'],train_set['Class Index'])\n",
    "\n",
    "test_predict = dt.predict(test_set['XLN'])\n",
    "\n",
    "train_accuracy = round(dt.score(train_set['XLN'],train_set['Class Index'])*100)\n",
    "test_accuracy =round(accuracy_score(test_predict, test_set['Class Index'])*100)\n",
    "\n",
    "print(\"Decision Tree Train Accuracy Score : {}% \".format(train_accuracy ))\n",
    "print(\"Decision Tree Test Accuracy Score  : {}% \".format(test_accuracy ))\n",
    "print()\n",
    "print(classification_report(test_predict, test_set['Class Index'], target_names=target_category))"
   ]
  },
  {
   "cell_type": "markdown",
   "id": "fac115ab",
   "metadata": {},
   "source": [
    "## Random forest"
   ]
  },
  {
   "cell_type": "code",
   "execution_count": 19,
   "id": "08b1cfdf",
   "metadata": {},
   "outputs": [
    {
     "name": "stdout",
     "output_type": "stream",
     "text": [
      "Random Forest Train Accuracy Score : 100% \n",
      "Random Forest Test Accuracy Score  : 89% \n",
      "\n",
      "              precision    recall  f1-score   support\n",
      "\n",
      "           3       0.89      0.91      0.90      1842\n",
      "           4       0.97      0.92      0.94      2012\n",
      "           2       0.83      0.86      0.85      1847\n",
      "           1       0.86      0.86      0.86      1899\n",
      "\n",
      "    accuracy                           0.89      7600\n",
      "   macro avg       0.89      0.89      0.89      7600\n",
      "weighted avg       0.89      0.89      0.89      7600\n",
      "\n"
     ]
    }
   ],
   "source": [
    "rfc = Pipeline([('tfidf', TfidfVectorizer()),\n",
    "                ('rfc', RandomForestClassifier(n_estimators=100, random_state=42)),\n",
    "               ])\n",
    "\n",
    "rfc.fit(train_set['XLN'],train_set['Class Index'])\n",
    "\n",
    "test_predict = rfc.predict(test_set['XLN'])\n",
    "\n",
    "train_accuracy = round(rfc.score(train_set['XLN'],train_set['Class Index'])*100)\n",
    "test_accuracy =round(accuracy_score(test_predict, test_set['Class Index'])*100)\n",
    "\n",
    "print(\"Random Forest Train Accuracy Score : {}% \".format(train_accuracy ))\n",
    "print(\"Random Forest Test Accuracy Score  : {}% \".format(test_accuracy ))\n",
    "print()\n",
    "print(classification_report(test_predict, test_set['Class Index'], target_names=target_category))"
   ]
  },
  {
   "cell_type": "markdown",
   "id": "49bbd059",
   "metadata": {},
   "source": [
    "# Moses"
   ]
  },
  {
   "cell_type": "code",
   "execution_count": 16,
   "id": "01218e76",
   "metadata": {},
   "outputs": [
    {
     "name": "stderr",
     "output_type": "stream",
     "text": [
      "stdbuf was not found; communication with perl may hang due to stdio buffering.\n"
     ]
    }
   ],
   "source": [
    "pipeline = MosesTokenizationPipeline('en')\n",
    "\n",
    "# Applicare la tokenizzazione\n",
    "train_set['Moses'] = pipeline.tokenize_column(train_set, 'cleaned_text')\n",
    "test_set['Moses'] = pipeline.tokenize_column(test_set, 'cleaned_text')"
   ]
  },
  {
   "cell_type": "markdown",
   "id": "7327aaf1",
   "metadata": {},
   "source": [
    "## Analisi complessa "
   ]
  },
  {
   "cell_type": "code",
   "execution_count": null,
   "id": "a2e297d2",
   "metadata": {},
   "outputs": [],
   "source": [
    "%memit pipeline.tokenize_column(train_set, 'cleaned_text')"
   ]
  },
  {
   "cell_type": "code",
   "execution_count": null,
   "id": "954c84b1",
   "metadata": {},
   "outputs": [],
   "source": [
    "%timeit pipeline.tokenize_column(train_set, 'cleaned_text')"
   ]
  },
  {
   "cell_type": "markdown",
   "id": "00ed3327",
   "metadata": {},
   "source": [
    "## Naive Bayes"
   ]
  },
  {
   "cell_type": "code",
   "execution_count": 25,
   "id": "52bcc099",
   "metadata": {},
   "outputs": [
    {
     "name": "stdout",
     "output_type": "stream",
     "text": [
      "Naive Bayes Train Accuracy Score : 91% \n",
      "Naive Bayes Test Accuracy Score  : 89% \n",
      "\n",
      "              precision    recall  f1-score   support\n",
      "\n",
      "           3       0.89      0.91      0.90      1861\n",
      "           4       0.97      0.95      0.96      1943\n",
      "           2       0.85      0.86      0.85      1887\n",
      "           1       0.87      0.86      0.86      1909\n",
      "\n",
      "    accuracy                           0.89      7600\n",
      "   macro avg       0.89      0.89      0.89      7600\n",
      "weighted avg       0.89      0.89      0.89      7600\n",
      "\n"
     ]
    }
   ],
   "source": [
    "nb = Pipeline([('tfidf', TfidfVectorizer()),\n",
    "               ('clf', MultinomialNB()),\n",
    "              ])\n",
    "nb.fit(train_set['Moses'],train_set['Class Index'])\n",
    "\n",
    "test_predict = nb.predict(test_set['Moses'])\n",
    "\n",
    "train_accuracy = round(nb.score(train_set['Moses'],train_set['Class Index'])*100)\n",
    "test_accuracy =round(accuracy_score(test_predict, test_set['Class Index'])*100)\n",
    "\n",
    "\n",
    "print(\"Naive Bayes Train Accuracy Score : {}% \".format(train_accuracy ))\n",
    "print(\"Naive Bayes Test Accuracy Score  : {}% \".format(test_accuracy ))\n",
    "print()\n",
    "# Supponiamo che target_category sia attualmente un array numerico o una lista di numeri\n",
    "# Convertilo in una lista di stringhe\n",
    "target_category = [str(name) for name in target_category]\n",
    "\n",
    "# Ora usa questa lista modificata nel classification_report\n",
    "print(classification_report(test_predict, test_set['Class Index'], target_names=target_category))"
   ]
  },
  {
   "cell_type": "markdown",
   "id": "2060ed21",
   "metadata": {},
   "source": [
    "## Decision Tree"
   ]
  },
  {
   "cell_type": "code",
   "execution_count": null,
   "id": "e84e3fbd",
   "metadata": {},
   "outputs": [],
   "source": [
    "dt = Pipeline([('tfidf', TfidfVectorizer()),\n",
    "                ('dt', DecisionTreeClassifier(random_state=42)),\n",
    "               ])\n",
    "\n",
    "dt.fit(train_set['Moses'],train_set['Class Index'])\n",
    "\n",
    "test_predict = dt.predict(test_set['Moses'])\n",
    "\n",
    "train_accuracy = round(dt.score(train_set['Moses'],train_set['Class Index'])*100)\n",
    "test_accuracy =round(accuracy_score(test_predict, test_set['Class Index'])*100)\n",
    "\n",
    "print(\"Decision Tree Train Accuracy Score : {}% \".format(train_accuracy ))\n",
    "print(\"Decision Tree Test Accuracy Score  : {}% \".format(test_accuracy ))\n",
    "print()\n",
    "print(classification_report(test_predict, test_set['Class Index'], target_names=target_category))"
   ]
  },
  {
   "cell_type": "markdown",
   "id": "18d58c35",
   "metadata": {},
   "source": [
    "## Random Forest"
   ]
  },
  {
   "cell_type": "code",
   "execution_count": null,
   "id": "1902bf17",
   "metadata": {},
   "outputs": [],
   "source": [
    "rfc = Pipeline([('tfidf', TfidfVectorizer()),\n",
    "                ('rfc', RandomForestClassifier(n_estimators=100, random_state=42)),\n",
    "               ])\n",
    "\n",
    "rfc.fit(train_set['Moses'],train_set['Class Index'])\n",
    "\n",
    "test_predict = rfc.predict(test_set['Moses'])\n",
    "\n",
    "train_accuracy = round(rfc.score(train_set['Moses'],train_set['Class Index'])*100)\n",
    "test_accuracy =round(accuracy_score(test_predict, test_set['Class Index'])*100)\n",
    "\n",
    "print(\"Random Forest Train Accuracy Score : {}% \".format(train_accuracy ))\n",
    "print(\"Random Forest Test Accuracy Score  : {}% \".format(test_accuracy ))\n",
    "print()\n",
    "print(classification_report(test_predict, test_set['Class Index'], target_names=target_category))"
   ]
  },
  {
   "cell_type": "markdown",
   "id": "45b1d4c4",
   "metadata": {},
   "source": [
    "# Morfessor "
   ]
  },
  {
   "cell_type": "code",
   "execution_count": 34,
   "id": "484111a4",
   "metadata": {},
   "outputs": [
    {
     "ename": "KeyboardInterrupt",
     "evalue": "",
     "output_type": "error",
     "traceback": [
      "\u001b[1;31m---------------------------------------------------------------------------\u001b[0m",
      "\u001b[1;31mKeyboardInterrupt\u001b[0m                         Traceback (most recent call last)",
      "\u001b[1;32m~\\AppData\\Local\\Temp\\ipykernel_16148\\3609957211.py\u001b[0m in \u001b[0;36m<module>\u001b[1;34m\u001b[0m\n\u001b[0;32m      1\u001b[0m \u001b[0mpipeline\u001b[0m \u001b[1;33m=\u001b[0m \u001b[0mMorfessorTokenizationPipeline\u001b[0m\u001b[1;33m(\u001b[0m\u001b[1;34m'tokenizer/model.bin'\u001b[0m\u001b[1;33m)\u001b[0m\u001b[1;33m\u001b[0m\u001b[1;33m\u001b[0m\u001b[0m\n\u001b[1;32m----> 2\u001b[1;33m \u001b[0mtrain_set\u001b[0m\u001b[1;33m[\u001b[0m\u001b[1;34m'MorfessorTokens'\u001b[0m\u001b[1;33m]\u001b[0m \u001b[1;33m=\u001b[0m \u001b[0mtrain_set\u001b[0m\u001b[1;33m[\u001b[0m\u001b[1;34m'cleaned_text'\u001b[0m\u001b[1;33m]\u001b[0m\u001b[1;33m.\u001b[0m\u001b[0mapply\u001b[0m\u001b[1;33m(\u001b[0m\u001b[0mpipeline\u001b[0m\u001b[1;33m.\u001b[0m\u001b[0mtokenize\u001b[0m\u001b[1;33m)\u001b[0m\u001b[1;33m\u001b[0m\u001b[1;33m\u001b[0m\u001b[0m\n\u001b[0m",
      "\u001b[1;32m~\\anaconda3\\lib\\site-packages\\pandas\\core\\series.py\u001b[0m in \u001b[0;36mapply\u001b[1;34m(self, func, convert_dtype, args, **kwargs)\u001b[0m\n\u001b[0;32m   4431\u001b[0m         \u001b[0mdtype\u001b[0m\u001b[1;33m:\u001b[0m \u001b[0mfloat64\u001b[0m\u001b[1;33m\u001b[0m\u001b[1;33m\u001b[0m\u001b[0m\n\u001b[0;32m   4432\u001b[0m         \"\"\"\n\u001b[1;32m-> 4433\u001b[1;33m         \u001b[1;32mreturn\u001b[0m \u001b[0mSeriesApply\u001b[0m\u001b[1;33m(\u001b[0m\u001b[0mself\u001b[0m\u001b[1;33m,\u001b[0m \u001b[0mfunc\u001b[0m\u001b[1;33m,\u001b[0m \u001b[0mconvert_dtype\u001b[0m\u001b[1;33m,\u001b[0m \u001b[0margs\u001b[0m\u001b[1;33m,\u001b[0m \u001b[0mkwargs\u001b[0m\u001b[1;33m)\u001b[0m\u001b[1;33m.\u001b[0m\u001b[0mapply\u001b[0m\u001b[1;33m(\u001b[0m\u001b[1;33m)\u001b[0m\u001b[1;33m\u001b[0m\u001b[1;33m\u001b[0m\u001b[0m\n\u001b[0m\u001b[0;32m   4434\u001b[0m \u001b[1;33m\u001b[0m\u001b[0m\n\u001b[0;32m   4435\u001b[0m     def _reduce(\n",
      "\u001b[1;32m~\\anaconda3\\lib\\site-packages\\pandas\\core\\apply.py\u001b[0m in \u001b[0;36mapply\u001b[1;34m(self)\u001b[0m\n\u001b[0;32m   1086\u001b[0m             \u001b[1;32mreturn\u001b[0m \u001b[0mself\u001b[0m\u001b[1;33m.\u001b[0m\u001b[0mapply_str\u001b[0m\u001b[1;33m(\u001b[0m\u001b[1;33m)\u001b[0m\u001b[1;33m\u001b[0m\u001b[1;33m\u001b[0m\u001b[0m\n\u001b[0;32m   1087\u001b[0m \u001b[1;33m\u001b[0m\u001b[0m\n\u001b[1;32m-> 1088\u001b[1;33m         \u001b[1;32mreturn\u001b[0m \u001b[0mself\u001b[0m\u001b[1;33m.\u001b[0m\u001b[0mapply_standard\u001b[0m\u001b[1;33m(\u001b[0m\u001b[1;33m)\u001b[0m\u001b[1;33m\u001b[0m\u001b[1;33m\u001b[0m\u001b[0m\n\u001b[0m\u001b[0;32m   1089\u001b[0m \u001b[1;33m\u001b[0m\u001b[0m\n\u001b[0;32m   1090\u001b[0m     \u001b[1;32mdef\u001b[0m \u001b[0magg\u001b[0m\u001b[1;33m(\u001b[0m\u001b[0mself\u001b[0m\u001b[1;33m)\u001b[0m\u001b[1;33m:\u001b[0m\u001b[1;33m\u001b[0m\u001b[1;33m\u001b[0m\u001b[0m\n",
      "\u001b[1;32m~\\anaconda3\\lib\\site-packages\\pandas\\core\\apply.py\u001b[0m in \u001b[0;36mapply_standard\u001b[1;34m(self)\u001b[0m\n\u001b[0;32m   1141\u001b[0m                 \u001b[1;31m# List[Union[Callable[..., Any], str]]]]]\"; expected\u001b[0m\u001b[1;33m\u001b[0m\u001b[1;33m\u001b[0m\u001b[0m\n\u001b[0;32m   1142\u001b[0m                 \u001b[1;31m# \"Callable[[Any], Any]\"\u001b[0m\u001b[1;33m\u001b[0m\u001b[1;33m\u001b[0m\u001b[0m\n\u001b[1;32m-> 1143\u001b[1;33m                 mapped = lib.map_infer(\n\u001b[0m\u001b[0;32m   1144\u001b[0m                     \u001b[0mvalues\u001b[0m\u001b[1;33m,\u001b[0m\u001b[1;33m\u001b[0m\u001b[1;33m\u001b[0m\u001b[0m\n\u001b[0;32m   1145\u001b[0m                     \u001b[0mf\u001b[0m\u001b[1;33m,\u001b[0m  \u001b[1;31m# type: ignore[arg-type]\u001b[0m\u001b[1;33m\u001b[0m\u001b[1;33m\u001b[0m\u001b[0m\n",
      "\u001b[1;32m~\\anaconda3\\lib\\site-packages\\pandas\\_libs\\lib.pyx\u001b[0m in \u001b[0;36mpandas._libs.lib.map_infer\u001b[1;34m()\u001b[0m\n",
      "\u001b[1;32m~\\data_processing\\tokenizer\\morfessor_tokenizator.py\u001b[0m in \u001b[0;36mtokenize\u001b[1;34m(self, text)\u001b[0m\n\u001b[0;32m      7\u001b[0m \u001b[1;33m\u001b[0m\u001b[0m\n\u001b[0;32m      8\u001b[0m     \u001b[1;32mdef\u001b[0m \u001b[0mtokenize\u001b[0m\u001b[1;33m(\u001b[0m\u001b[0mself\u001b[0m\u001b[1;33m,\u001b[0m \u001b[0mtext\u001b[0m\u001b[1;33m)\u001b[0m\u001b[1;33m:\u001b[0m\u001b[1;33m\u001b[0m\u001b[1;33m\u001b[0m\u001b[0m\n\u001b[1;32m----> 9\u001b[1;33m         \u001b[1;32mreturn\u001b[0m \u001b[0mself\u001b[0m\u001b[1;33m.\u001b[0m\u001b[0mmodel\u001b[0m\u001b[1;33m.\u001b[0m\u001b[0mviterbi_segment\u001b[0m\u001b[1;33m(\u001b[0m\u001b[0mtext\u001b[0m\u001b[1;33m)\u001b[0m\u001b[1;33m[\u001b[0m\u001b[1;36m0\u001b[0m\u001b[1;33m]\u001b[0m\u001b[1;33m\u001b[0m\u001b[1;33m\u001b[0m\u001b[0m\n\u001b[0m",
      "\u001b[1;32m~\\anaconda3\\lib\\site-packages\\morfessor\\baseline.py\u001b[0m in \u001b[0;36mviterbi_segment\u001b[1;34m(self, compound, addcount, maxlen)\u001b[0m\n\u001b[0;32m    752\u001b[0m                 \u001b[1;32mcontinue\u001b[0m\u001b[1;33m\u001b[0m\u001b[1;33m\u001b[0m\u001b[0m\n\u001b[0;32m    753\u001b[0m             \u001b[1;32mfor\u001b[0m \u001b[0mpt\u001b[0m \u001b[1;32min\u001b[0m \u001b[0mrange\u001b[0m\u001b[1;33m(\u001b[0m\u001b[0mmax\u001b[0m\u001b[1;33m(\u001b[0m\u001b[1;36m0\u001b[0m\u001b[1;33m,\u001b[0m \u001b[0mt\u001b[0m \u001b[1;33m-\u001b[0m \u001b[0mmaxlen\u001b[0m\u001b[1;33m)\u001b[0m\u001b[1;33m,\u001b[0m \u001b[0mt\u001b[0m\u001b[1;33m)\u001b[0m\u001b[1;33m:\u001b[0m\u001b[1;33m\u001b[0m\u001b[1;33m\u001b[0m\u001b[0m\n\u001b[1;32m--> 754\u001b[1;33m                 \u001b[1;32mif\u001b[0m \u001b[0mgrid\u001b[0m\u001b[1;33m[\u001b[0m\u001b[0mpt\u001b[0m\u001b[1;33m]\u001b[0m\u001b[1;33m[\u001b[0m\u001b[1;36m0\u001b[0m\u001b[1;33m]\u001b[0m \u001b[1;32mis\u001b[0m \u001b[1;32mNone\u001b[0m\u001b[1;33m:\u001b[0m\u001b[1;33m\u001b[0m\u001b[1;33m\u001b[0m\u001b[0m\n\u001b[0m\u001b[0;32m    755\u001b[0m                     \u001b[1;32mcontinue\u001b[0m\u001b[1;33m\u001b[0m\u001b[1;33m\u001b[0m\u001b[0m\n\u001b[0;32m    756\u001b[0m                 \u001b[0mcost\u001b[0m \u001b[1;33m=\u001b[0m \u001b[0mgrid\u001b[0m\u001b[1;33m[\u001b[0m\u001b[0mpt\u001b[0m\u001b[1;33m]\u001b[0m\u001b[1;33m[\u001b[0m\u001b[1;36m0\u001b[0m\u001b[1;33m]\u001b[0m\u001b[1;33m\u001b[0m\u001b[1;33m\u001b[0m\u001b[0m\n",
      "\u001b[1;31mKeyboardInterrupt\u001b[0m: "
     ]
    }
   ],
   "source": [
    "pipeline = MorfessorTokenizationPipeline('model/model.bin')\n",
    "train_set['MorfessorTokens'] = train_set['cleaned_text'].apply(pipeline.tokenize)"
   ]
  },
  {
   "cell_type": "markdown",
   "id": "4a57d094",
   "metadata": {},
   "source": [
    "# Grafici per analisi complessa"
   ]
  },
  {
   "cell_type": "code",
   "execution_count": 23,
   "id": "3206d98e",
   "metadata": {},
   "outputs": [],
   "source": [
    "tokenizer = pd.DataFrame({\n",
    "    \"Tokenizzatore\": [\"White Space\", \"BPE\", \"BPE Roberta\", \"XLN\", \"Moses\"],\n",
    "    \"Tempo di Esecuzione (ms)\": [68.6, 52.3, 74.1, 74.1, 74.1],\n",
    "    \"Incremento Memoria (MiB)\": [0.85, 1.20, 0.95, 0.95, 0.95]\n",
    "})"
   ]
  },
  {
   "cell_type": "code",
   "execution_count": 27,
   "id": "4314f7b8",
   "metadata": {},
   "outputs": [
    {
     "data": {
      "image/png": "[encoded data removed]",
      "text/plain": [
       "<Figure size 500x200 with 1 Axes>"
      ]
     },
     "metadata": {},
     "output_type": "display_data"
    },
    {
     "data": {
      "image/png": "[encoded data removed]",
      "text/plain": [
       "<Figure size 500x200 with 1 Axes>"
      ]
     },
     "metadata": {},
     "output_type": "display_data"
    }
   ],
   "source": [
    "sns.set_style(\"whitegrid\")\n",
    "\n",
    "# Grafico per l'analisi temporale\n",
    "plt.figure(figsize=(5, 2))\n",
    "tempo_plot = sns.barplot(x=\"Tokenizzatore\", y=\"Tempo di Esecuzione (ms)\", data=tokenizer, color=\"blue\")\n",
    "tempo_plot.set_title('Confronto dell\\'Efficienza Temporale dei Tokenizzatori')\n",
    "#plt.savefig('analisi_temporale.png')\n",
    "plt.show()\n",
    "\n",
    "# Grafico per l'analisi spaziale\n",
    "plt.figure(figsize=(5, 2))\n",
    "memoria_plot = sns.barplot(x=\"Tokenizzatore\", y=\"Incremento Memoria (MiB)\", data=tokenizer, color=\"green\")\n",
    "memoria_plot.set_title('Confronto dell\\'Efficienza Spaziale dei Tokenizzatori')\n",
    "#plt.savefig('analisi_spaziale.png')\n",
    "plt.show()\n"
   ]
  }
 ],
 "metadata": {
  "kernelspec": {
   "display_name": "Python 3 (ipykernel)",
   "language": "python",
   "name": "python3"
  },
  "language_info": {
   "codemirror_mode": {
    "name": "ipython",
    "version": 3
   },
   "file_extension": ".py",
   "mimetype": "text/x-python",
   "name": "python",
   "nbconvert_exporter": "python",
   "pygments_lexer": "ipython3",
   "version": "3.9.13"
  }
 },
 "nbformat": 4,
 "nbformat_minor": 5
}
