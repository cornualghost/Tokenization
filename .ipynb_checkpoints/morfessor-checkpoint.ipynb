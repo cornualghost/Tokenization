{
 "cells": [
  {
   "cell_type": "code",
   "execution_count": 1,
   "id": "8f10a9af",
   "metadata": {},
   "outputs": [],
   "source": [
    "import math\n",
    "import morfessor\n",
    "import pandas as pd"
   ]
  },
  {
   "cell_type": "code",
   "execution_count": 2,
   "id": "5fae71d7",
   "metadata": {},
   "outputs": [],
   "source": [
    "# Caricare il dataset\n",
    "train_set = pd.read_csv('train.csv')\n",
    "\n",
    "# Estrazione solo dei titoli (o modifica questa linea per estrarre la parte desiderata)\n",
    "titoli = train_set['Title']\n",
    "\n",
    "# Salvare i titoli in un nuovo file di testo\n",
    "path_del_file_titoli = 'titoli_per_morfessor.txt'\n",
    "with open(path_del_file_titoli, 'w', encoding='utf-8') as file:\n",
    "    for titolo in titoli:\n",
    "        file.write(titolo + '\\n')\n",
    "\n",
    "# Ora puoi usare 'titoli_per_morfessor.txt' come infile per Morfessor\n",
    "infile = path_del_file_titoli"
   ]
  },
  {
   "cell_type": "code",
   "execution_count": 4,
   "id": "9fbd5d59",
   "metadata": {},
   "outputs": [],
   "source": [
    "# Funzione per aggiustare i conteggi di ogni composto\n",
    "def log_func(x):\n",
    "    return int(round(math.log(x + 1, 2)))"
   ]
  },
  {
   "cell_type": "code",
   "execution_count": null,
   "id": "5bcd28b8",
   "metadata": {},
   "outputs": [
    {
     "name": "stderr",
     "output_type": "stream",
     "text": [
      "........"
     ]
    }
   ],
   "source": [
    "# Creazione di un'istanza per I/O e del modello Morfessor\n",
    "io = morfessor.MorfessorIO()\n",
    "train_data = list(io.read_corpus_file(infile))\n",
    "\n",
    "# Creare un'istanza del modello Morfessor e caricare i dati\n",
    "model = morfessor.BaselineModel()\n",
    "model.load_data(train_data, count_modifier=log_func)\n",
    "\n",
    "# Addestrare il modello\n",
    "model.train_batch()\n",
    "\n",
    "# Salvare il modello addestrato\n",
    "io.write_binary_model_file(\"model.bin\", model)"
   ]
  },
  {
   "cell_type": "code",
   "execution_count": 7,
   "id": "b3d63d00",
   "metadata": {},
   "outputs": [
    {
     "name": "stdout",
     "output_type": "stream",
     "text": [
      "                                                  Title  \\\n",
      "0                     Fears for T N pension after talks   \n",
      "1     The Race is On: Second Private Team Sets Launc...   \n",
      "2         Ky. Company Wins Grant to Study Peptides (AP)   \n",
      "3         Prediction Unit Helps Forecast Wildfires (AP)   \n",
      "4           Calif. Aims to Limit Farm-Related Smog (AP)   \n",
      "...                                                 ...   \n",
      "7595                                   Around the world   \n",
      "7596                        Void is filled with Clement   \n",
      "7597                             Martinez leaves bitter   \n",
      "7598  5 of arthritis patients in Singapore take Bext...   \n",
      "7599                             EBay gets into rentals   \n",
      "\n",
      "                                        Tokenized_Title  \n",
      "0             [Fear, s,  for T N pension after , talks]  \n",
      "1     [The,  Race is On: Second , Private,  Team Set...  \n",
      "2     [Ky.,  , Company,  Wins Grant to Study Peptide...  \n",
      "3     [Predict, ion,  Unit Helps , Forecast,  Wildfi...  \n",
      "4     [Calif.,  Aims to Limit , Farm, -Related,  Smo...  \n",
      "...                                                 ...  \n",
      "7595                             [Around,  the , world]  \n",
      "7596                  [Void,  is filled with , Clement]  \n",
      "7597                       [Martinez,  leaves , bitter]  \n",
      "7598  [5 of arthritis patients in , Singapore,  take...  \n",
      "7599                     [EBay,  gets into , rental, s]  \n",
      "\n",
      "[7600 rows x 2 columns]\n"
     ]
    }
   ],
   "source": [
    "# Caricare il dataset\n",
    "df_test = pd.read_csv(\"C:/Users/keita/OneDrive/Documenti/universita/data_processing/test.csv\")\n",
    "\n",
    "# Estrarre i titoli\n",
    "titles = df_test['Title']\n",
    "\n",
    "# Caricare il modello Morfessor\n",
    "io = morfessor.MorfessorIO()\n",
    "model = io.read_binary_model_file(\"model.bin\")\n",
    "\n",
    "# Applicare il modello Morfessor a ogni titolo\n",
    "tokenized_titles = []\n",
    "for title in titles:\n",
    "    segmentation = model.viterbi_segment(title)[0]\n",
    "    tokenized_titles.append(segmentation)\n",
    "\n",
    "# Aggiungere i titoli tokenizzati al dataframe\n",
    "df_test['Tokenized_Title'] = tokenized_titles\n",
    "\n",
    "# Visualizzare i risultati\n",
    "print(df_test[['Title', 'Tokenized_Title']])"
   ]
  }
 ],
 "metadata": {
  "kernelspec": {
   "display_name": "Python 3 (ipykernel)",
   "language": "python",
   "name": "python3"
  },
  "language_info": {
   "codemirror_mode": {
    "name": "ipython",
    "version": 3
   },
   "file_extension": ".py",
   "mimetype": "text/x-python",
   "name": "python",
   "nbconvert_exporter": "python",
   "pygments_lexer": "ipython3",
   "version": "3.9.13"
  }
 },
 "nbformat": 4,
 "nbformat_minor": 5
}
