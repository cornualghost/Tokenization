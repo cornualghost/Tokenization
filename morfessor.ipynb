{
 "cells": [
  {
   "cell_type": "code",
   "execution_count": 1,
   "id": "8f10a9af",
   "metadata": {},
   "outputs": [],
   "source": [
    "import math\n",
    "import morfessor\n",
    "import pandas as pd"
   ]
  },
  {
   "cell_type": "code",
   "execution_count": 2,
   "id": "e319cdaf",
   "metadata": {},
   "outputs": [
    {
     "ename": "TypeError",
     "evalue": "object of type 'int' has no len()",
     "output_type": "error",
     "traceback": [
      "\u001b[1;31m---------------------------------------------------------------------------\u001b[0m",
      "\u001b[1;31mTypeError\u001b[0m                                 Traceback (most recent call last)",
      "\u001b[1;32m~\\AppData\\Local\\Temp\\ipykernel_25532\\2772035209.py\u001b[0m in \u001b[0;36m<module>\u001b[1;34m\u001b[0m\n\u001b[0;32m     20\u001b[0m \u001b[1;31m# Creare un'istanza del modello Morfessor e caricare i dati\u001b[0m\u001b[1;33m\u001b[0m\u001b[1;33m\u001b[0m\u001b[0m\n\u001b[0;32m     21\u001b[0m \u001b[0mmodel\u001b[0m \u001b[1;33m=\u001b[0m \u001b[0mmorfessor\u001b[0m\u001b[1;33m.\u001b[0m\u001b[0mBaselineModel\u001b[0m\u001b[1;33m(\u001b[0m\u001b[1;33m)\u001b[0m\u001b[1;33m\u001b[0m\u001b[1;33m\u001b[0m\u001b[0m\n\u001b[1;32m---> 22\u001b[1;33m \u001b[0mmodel\u001b[0m\u001b[1;33m.\u001b[0m\u001b[0mload_data\u001b[0m\u001b[1;33m(\u001b[0m\u001b[0mtrain_data\u001b[0m\u001b[1;33m,\u001b[0m \u001b[0mcount_modifier\u001b[0m\u001b[1;33m=\u001b[0m\u001b[0mlog_func\u001b[0m\u001b[1;33m)\u001b[0m\u001b[1;33m\u001b[0m\u001b[1;33m\u001b[0m\u001b[0m\n\u001b[0m\u001b[0;32m     23\u001b[0m \u001b[1;33m\u001b[0m\u001b[0m\n\u001b[0;32m     24\u001b[0m \u001b[1;31m# Addestrare il modello\u001b[0m\u001b[1;33m\u001b[0m\u001b[1;33m\u001b[0m\u001b[0m\n",
      "\u001b[1;32m~\\anaconda3\\lib\\site-packages\\morfessor\\baseline.py\u001b[0m in \u001b[0;36mload_data\u001b[1;34m(self, data, freqthreshold, count_modifier, init_rand_split)\u001b[0m\n\u001b[0;32m    498\u001b[0m         \u001b[0mtotalcount\u001b[0m \u001b[1;33m=\u001b[0m \u001b[0mcollections\u001b[0m\u001b[1;33m.\u001b[0m\u001b[0mCounter\u001b[0m\u001b[1;33m(\u001b[0m\u001b[1;33m)\u001b[0m\u001b[1;33m\u001b[0m\u001b[1;33m\u001b[0m\u001b[0m\n\u001b[0;32m    499\u001b[0m         \u001b[1;32mfor\u001b[0m \u001b[0mcount\u001b[0m\u001b[1;33m,\u001b[0m \u001b[0matoms\u001b[0m \u001b[1;32min\u001b[0m \u001b[0mdata\u001b[0m\u001b[1;33m:\u001b[0m\u001b[1;33m\u001b[0m\u001b[1;33m\u001b[0m\u001b[0m\n\u001b[1;32m--> 500\u001b[1;33m             \u001b[1;32mif\u001b[0m \u001b[0mlen\u001b[0m\u001b[1;33m(\u001b[0m\u001b[0matoms\u001b[0m\u001b[1;33m)\u001b[0m \u001b[1;33m>\u001b[0m \u001b[1;36m0\u001b[0m\u001b[1;33m:\u001b[0m\u001b[1;33m\u001b[0m\u001b[1;33m\u001b[0m\u001b[0m\n\u001b[0m\u001b[0;32m    501\u001b[0m                 \u001b[0mtotalcount\u001b[0m\u001b[1;33m[\u001b[0m\u001b[0matoms\u001b[0m\u001b[1;33m]\u001b[0m \u001b[1;33m+=\u001b[0m \u001b[0mcount\u001b[0m\u001b[1;33m\u001b[0m\u001b[1;33m\u001b[0m\u001b[0m\n\u001b[0;32m    502\u001b[0m \u001b[1;33m\u001b[0m\u001b[0m\n",
      "\u001b[1;31mTypeError\u001b[0m: object of type 'int' has no len()"
     ]
    }
   ],
   "source": [
    "# Caricare il dataset\n",
    "train_set = pd.read_csv('train.csv')\n",
    "\n",
    "# Funzione per aggiustare i conteggi di ogni composto\n",
    "def log_func(x):\n",
    "    return int(round(math.log(x + 1, 2)))\n",
    "\n",
    "# Creazione di un'istanza per I/O e del modello Morfessor\n",
    "io = morfessor.MorfessorIO()\n",
    "\n",
    "# Leggere i dati dal file di testo\n",
    "with open('titoli_per_morfessor.txt', 'r', encoding='utf-8') as file:\n",
    "    lines = file.readlines()\n",
    "\n",
    "# Preparazione dei dati per Morfessor\n",
    "# Si assume che ogni riga del file sia un esempio di input separato\n",
    "train_data = [(line.strip(), log_func(1)) for line in lines if line.strip()]\n",
    "\n",
    "\n",
    "# Creare un'istanza del modello Morfessor e caricare i dati\n",
    "model = morfessor.BaselineModel()\n",
    "model.load_data(train_data, count_modifier=log_func)\n",
    "\n",
    "# Addestrare il modello\n",
    "model.train_batch()\n",
    "\n",
    "# Salvare il modello addestrato\n",
    "io.write_binary_model_file(\"model.bin\", model)"
   ]
  },
  {
   "cell_type": "code",
   "execution_count": 3,
   "id": "5fae71d7",
   "metadata": {},
   "outputs": [],
   "source": [
    "# Caricare il dataset\n",
    "train_set = pd.read_csv('train.csv')\n",
    "\n",
    "# Estrazione il testo\n",
    "titoli = train_set['Description']\n",
    "\n",
    "# Salvare i titoli in un nuovo file di testo\n",
    "path_del_file_titoli = 'titoli_per_morfessor.txt'\n",
    "with open(path_del_file_titoli, 'w', encoding='utf-8') as file:\n",
    "    for titolo in titoli:\n",
    "        file.write(titolo + '\\n')\n",
    "\n",
    "# Ora puoi usare 'titoli_per_morfessor.txt' come infile per Morfessor\n",
    "infile = path_del_file_titoli"
   ]
  },
  {
   "cell_type": "code",
   "execution_count": 4,
   "id": "5bcd28b8",
   "metadata": {},
   "outputs": [
    {
     "name": "stderr",
     "output_type": "stream",
     "text": [
      "...........................................................\n",
      "...........................................................\n",
      "...........................................................\n",
      "...........................................................\n",
      "...........................................................\n"
     ]
    }
   ],
   "source": [
    "# Creazione di un'istanza per I/O e del modello Morfessor\n",
    "io = morfessor.MorfessorIO()\n",
    "train_data = list(io.read_corpus_file(infile))\n",
    "\n",
    "# Creare un'istanza del modello Morfessor e caricare i dati\n",
    "model = morfessor.BaselineModel()\n",
    "model.load_data(train_data, count_modifier=log_func)\n",
    "\n",
    "# Addestrare il modello\n",
    "model.train_batch()\n",
    "\n",
    "# Salvare il modello addestrato\n",
    "io.write_binary_model_file(\"model.bin\", model)"
   ]
  },
  {
   "cell_type": "code",
   "execution_count": 6,
   "id": "e19d27b8",
   "metadata": {},
   "outputs": [],
   "source": [
    "# Morfessor pipeline\n",
    "class MorfessorTokenizationPipeline:\n",
    "    def __init__(self, model_path):\n",
    "        self.model = morfessor.MorfessorIO().read_binary_model_file(model_path)\n",
    "\n",
    "    def tokenize(self, text):\n",
    "        return self.model.viterbi_segment(text)[0]"
   ]
  }
 ],
 "metadata": {
  "kernelspec": {
   "display_name": "Python 3 (ipykernel)",
   "language": "python",
   "name": "python3"
  },
  "language_info": {
   "codemirror_mode": {
    "name": "ipython",
    "version": 3
   },
   "file_extension": ".py",
   "mimetype": "text/x-python",
   "name": "python",
   "nbconvert_exporter": "python",
   "pygments_lexer": "ipython3",
   "version": "3.9.13"
  }
 },
 "nbformat": 4,
 "nbformat_minor": 5
}
