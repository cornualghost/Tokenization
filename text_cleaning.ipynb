{
 "cells": [
  {
   "cell_type": "code",
   "execution_count": null,
   "id": "5da84341",
   "metadata": {},
   "outputs": [],
   "source": [
    "import pandas as pd\n",
    "import nltk\n",
    "from nltk.corpus import stopwords\n",
    "import re\n",
    "\n",
    "# Scaricare le stopwords\n",
    "nltk.download('stopwords')\n"
   ]
  },
  {
   "cell_type": "code",
   "execution_count": null,
   "id": "56b97e27",
   "metadata": {},
   "outputs": [],
   "source": [
    "import pandas as pd\n",
    "import nltk\n",
    "from nltk.corpus import stopwords\n",
    "import re\n",
    "\n",
    "# Scarica le stopwords\n",
    "nltk.download('stopwords')\n",
    "\n",
    "def clean_text(text_column):\n",
    "    # Definisci le stopwords in inglese come un set\n",
    "    stop = set(stopwords.words('english'))\n",
    "\n",
    "    # Compila l'espressione regolare per la pulizia del testo\n",
    "    reg_exp = re.compile(r'[^a-zA-Z]+')\n",
    "\n",
    "    # Funzione per pulire una singola stringa\n",
    "    def clean_string(text):\n",
    "        text = text.lower()  # Converti in minuscolo\n",
    "        text = reg_exp.sub(' ', text)  # Sostituisci i caratteri non alfabetici con spazi\n",
    "        return ' '.join(w for w in text.split() if len(w) > 1 and w not in stop)\n",
    "\n",
    "    return clean_string\n",
    "\n"
   ]
  },
  {
   "cell_type": "code",
   "execution_count": null,
   "id": "556c943b",
   "metadata": {},
   "outputs": [],
   "source": [
    "#importare i datset\n",
    "train_set = pd.read_csv('train.csv')\n",
    "test_set = pd.read_csv(\"test.csv\")\n",
    "\n",
    "\n",
    "# Esempio di utilizzo\n",
    "clean_func = clean_text('Description')\n",
    "train_set['cleaned_text'] = train_set['Description'].apply(clean_func)\n",
    "train_set.head()"
   ]
  }
 ],
 "metadata": {
  "kernelspec": {
   "display_name": "Python 3 (ipykernel)",
   "language": "python",
   "name": "python3"
  },
  "language_info": {
   "codemirror_mode": {
    "name": "ipython",
    "version": 3
   },
   "file_extension": ".py",
   "mimetype": "text/x-python",
   "name": "python",
   "nbconvert_exporter": "python",
   "pygments_lexer": "ipython3",
   "version": "3.11.4"
  }
 },
 "nbformat": 4,
 "nbformat_minor": 5
}
